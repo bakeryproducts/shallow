{
 "cells": [
  {
   "cell_type": "code",
   "execution_count": null,
   "metadata": {},
   "outputs": [],
   "source": [
    "#export\n",
    "import matplotlib.gridspec as gridspec\n",
    "import matplotlib.pyplot as plt"
   ]
  },
  {
   "cell_type": "code",
   "execution_count": null,
   "metadata": {},
   "outputs": [],
   "source": [
    "%matplotlib inline"
   ]
  },
  {
   "cell_type": "code",
   "execution_count": null,
   "metadata": {},
   "outputs": [],
   "source": [
    "#export\n",
    "def show_images(image_batch, by_channels=False):\n",
    "    columns = image_batch.shape[1] if by_channels else 1 \n",
    "    batch_size = image_batch.shape[0] if len(image_batch.shape) == 4 else 1\n",
    "    #image_batch = image_batch.squeeze()\n",
    "\n",
    "\n",
    "    fig = plt.figure(figsize = (32,32//batch_size))\n",
    "    gs = gridspec.GridSpec(batch_size, columns)\n",
    "    for i in range(batch_size):\n",
    "        if by_channels:\n",
    "            for j in range(columns):\n",
    "                k = j + i*columns\n",
    "                plt.subplot(gs[k])\n",
    "                plt.axis(\"off\")\n",
    "                plt.imshow(image_batch[i,j])\n",
    "        else:\n",
    "            plt.subplot(gs[i])\n",
    "            plt.axis(\"off\")\n",
    "            img = image_batch[i].squeeze()\n",
    "            if len(img.shape) > 2:\n",
    "                if img.shape[0] == 3:\n",
    "                    img = np.transpose(img, (1,2,0))\n",
    "            plt.imshow(img)\n"
   ]
  },
  {
   "cell_type": "code",
   "execution_count": null,
   "metadata": {},
   "outputs": [],
   "source": []
  },
  {
   "cell_type": "code",
   "execution_count": null,
   "metadata": {},
   "outputs": [],
   "source": []
  },
  {
   "cell_type": "code",
   "execution_count": null,
   "metadata": {},
   "outputs": [],
   "source": []
  },
  {
   "cell_type": "code",
   "execution_count": null,
   "metadata": {},
   "outputs": [],
   "source": []
  }
 ],
 "metadata": {
  "kernelspec": {
   "display_name": "Python 3",
   "language": "python",
   "name": "python3"
  },
  "language_info": {
   "codemirror_mode": {
    "name": "ipython",
    "version": 3
   },
   "file_extension": ".py",
   "mimetype": "text/x-python",
   "name": "python",
   "nbconvert_exporter": "python",
   "pygments_lexer": "ipython3",
   "version": "3.6.9"
  }
 },
 "nbformat": 4,
 "nbformat_minor": 4
}
