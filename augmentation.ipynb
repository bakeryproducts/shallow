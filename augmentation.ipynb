{
 "cells": [
  {
   "cell_type": "code",
   "execution_count": null,
   "metadata": {},
   "outputs": [],
   "source": [
    "import sys\n",
    "sys.path.append('src')"
   ]
  },
  {
   "cell_type": "markdown",
   "metadata": {},
   "source": [
    "# Imports"
   ]
  },
  {
   "cell_type": "code",
   "execution_count": null,
   "metadata": {},
   "outputs": [],
   "source": [
    "#export \n",
    "from functools import partial\n",
    "import albumentations as albu\n",
    "import albumentations.pytorch as albu_pt\n",
    "\n",
    "import torch\n",
    "import numpy as np"
   ]
  },
  {
   "cell_type": "code",
   "execution_count": null,
   "metadata": {},
   "outputs": [],
   "source": [
    "import matplotlib.pyplot as plt"
   ]
  },
  {
   "cell_type": "code",
   "execution_count": null,
   "metadata": {},
   "outputs": [],
   "source": [
    "%load_ext autoreload\n",
    "%autoreload 2\n",
    "\n",
    "%matplotlib inline"
   ]
  },
  {
   "cell_type": "markdown",
   "metadata": {},
   "source": [
    "# Code"
   ]
  },
  {
   "cell_type": "code",
   "execution_count": null,
   "metadata": {},
   "outputs": [],
   "source": [
    "#export\n",
    "BBOX_PARAMS = {\n",
    "    \"format\":'coco',\n",
    "    \"label_fields\":None,\n",
    "    \"min_area\":0.0,\n",
    "    \"min_visibility\":0.0,\n",
    "}\n",
    "def composer(using_boxes): return albu.Compose if not using_boxes else partial(albu.Compose, bbox_params=albu.BboxParams(**BBOX_PARAMS)) \n",
    "\n",
    "class ToTensor(albu_pt.ToTensorV2):\n",
    "    def apply_to_mask(self, mask, **params):\n",
    "        return torch.from_numpy(mask).permute((2,0,1))\n",
    "    \n",
    "    def apply(self, image, **params):\n",
    "        return torch.from_numpy(image).permute((2,0,1))\n",
    "\n",
    "class Augmentator:\n",
    "    def __init__(self, cfg, using_boxes=False):\n",
    "        self.cfg = cfg \n",
    "        self.using_boxes = using_boxes\n",
    "        self.resize_w, self.resize_h = self.cfg['RESIZE']\n",
    "        self.crop_w, self.crop_h = self.cfg['CROP']\n",
    "        self.compose = composer(using_boxes)\n",
    "    \n",
    "    def get_aug(self, kind):\n",
    "        if kind == 'val': return self.aug_val()\n",
    "        elif kind == 'val_forced': return self.aug_val_forced()\n",
    "        elif kind == 'test': return self.aug_test ()\n",
    "        elif kind == 'light': return self.aug_light()\n",
    "        else: raise Exception(f'Unknown aug : {kind}')\n",
    "        \n",
    "    def norm(self): \n",
    "        mean = (0,0,0)\n",
    "        std = (1,1,1)\n",
    "        return self.compose([albu.Normalize(mean=mean, std=std), ToTensor()])\n",
    "    \n",
    "    def rand_crop(self):\n",
    "        return albu.OneOf([\n",
    "                #albu.RandomResizedCrop(h,w, scale=(0.05, 0.4)), \n",
    "                albu.RandomCrop(self.crop_h,self.crop_w)\n",
    "                #albu.CropNonEmptyMaskIfExists(h,w)\n",
    "            ], p=1)    \n",
    "    \n",
    "    def resize(self): return albu.Resize(self.resize_h, self.resize_w)\n",
    "    \n",
    "    def aug_val(self): return self.compose([albu.CenterCrop(self.crop_h,self.crop_w), self.norm()])\n",
    "    def aug_val_forced(self): return self.compose([albu.CropNonEmptyMaskIfExists(self.crop_h,self.crop_w), self.norm()])\n",
    "    \n",
    "    def aug_test(self): return self.compose([albu.Resize(self.resize_h,self.resize_w), self.norm()])\n",
    "    def aug_light(self): return self.compose([self.rand_crop(), albu.Flip(), albu.RandomRotate90(), self.norm()])\n",
    "    \n",
    "    def aug_medium(self): \n",
    "        return albu.Compose([\n",
    "                            self.rand_crop(),\n",
    "                            albu.Flip(),\n",
    "                            albu.ShiftScaleRotate(),  # border_mode=cv2.BORDER_CONSTANT\n",
    "                            # Add occasion blur/sharpening\n",
    "                            albu.OneOf([albu.GaussianBlur(), albu.IAASharpen(), albu.NoOp()]),\n",
    "                            # Spatial-preserving augmentations:\n",
    "                            # albu.OneOf([albu.CoarseDropout(), albu.MaskDropout(max_objects=5), albu.NoOp()]),\n",
    "                            albu.GaussNoise(),\n",
    "                            albu.OneOf(\n",
    "                                [\n",
    "                                    albu.RandomBrightnessContrast(),\n",
    "                                    albu.CLAHE(),\n",
    "                                    albu.HueSaturationValue(),\n",
    "                                    albu.RGBShift(),\n",
    "                                    albu.RandomGamma(),\n",
    "                                ]\n",
    "                            ),\n",
    "                            # Weather effects\n",
    "                            albu.RandomFog(fog_coef_lower=0.01, fog_coef_upper=0.3, p=0.1),\n",
    "                            self.norm(),\n",
    "                        ])\n",
    "    def aug_hard(self):\n",
    "        return albu.Compose([  \n",
    "                            self.rand_crop(), \n",
    "                            albu.RandomRotate90(),\n",
    "                            albu.Transpose(),\n",
    "                            albu.RandomGridShuffle(p=0.2),\n",
    "                            albu.ShiftScaleRotate(scale_limit=0.1, rotate_limit=45, p=0.2),\n",
    "                            albu.ElasticTransform(alpha_affine=5, p=0.2),\n",
    "                            # Add occasion blur\n",
    "                            albu.OneOf([albu.GaussianBlur(), albu.GaussNoise(), albu.IAAAdditiveGaussianNoise(), albu.NoOp()]),\n",
    "                            # D4 Augmentations\n",
    "                            albu.OneOf([albu.CoarseDropout(), albu.NoOp()]),\n",
    "                            # Spatial-preserving augmentations:\n",
    "                            albu.OneOf(\n",
    "                                [\n",
    "                                    albu.RandomBrightnessContrast(brightness_by_max=True),\n",
    "                                    albu.CLAHE(),\n",
    "                                    albu.HueSaturationValue(),\n",
    "                                    albu.RGBShift(),\n",
    "                                    albu.RandomGamma(),\n",
    "                                    albu.NoOp(),\n",
    "                                ]\n",
    "                            ),\n",
    "                            # Weather effects\n",
    "                            albu.OneOf([albu.RandomFog(fog_coef_lower=0.01, fog_coef_upper=0.3, p=0.1), albu.NoOp()]),\n",
    "                            self.norm(),\n",
    "                        ])"
   ]
  },
  {
   "cell_type": "code",
   "execution_count": null,
   "metadata": {},
   "outputs": [],
   "source": [
    "#export \n",
    "def get_aug(aug_type, transforms_cfg, using_boxes):\n",
    "    \"\"\" aug_type (str): one of `val`, `test`, `light`, `medium`, `hard`\n",
    "        transforms_cfg (dict): part of main cfg\n",
    "    \"\"\"\n",
    "    auger = Augmentator(cfg=transforms_cfg, using_boxes=using_boxes)\n",
    "    return auger.get_aug(aug_type)"
   ]
  },
  {
   "cell_type": "code",
   "execution_count": null,
   "metadata": {},
   "outputs": [],
   "source": []
  },
  {
   "cell_type": "code",
   "execution_count": null,
   "metadata": {},
   "outputs": [],
   "source": []
  },
  {
   "cell_type": "code",
   "execution_count": null,
   "metadata": {},
   "outputs": [],
   "source": []
  },
  {
   "cell_type": "code",
   "execution_count": null,
   "metadata": {},
   "outputs": [],
   "source": []
  },
  {
   "cell_type": "code",
   "execution_count": null,
   "metadata": {},
   "outputs": [],
   "source": []
  }
 ],
 "metadata": {
  "kernelspec": {
   "display_name": "Python 3",
   "language": "python",
   "name": "python3"
  },
  "language_info": {
   "codemirror_mode": {
    "name": "ipython",
    "version": 3
   },
   "file_extension": ".py",
   "mimetype": "text/x-python",
   "name": "python",
   "nbconvert_exporter": "python",
   "pygments_lexer": "ipython3",
   "version": "3.6.9"
  }
 },
 "nbformat": 4,
 "nbformat_minor": 4
}
