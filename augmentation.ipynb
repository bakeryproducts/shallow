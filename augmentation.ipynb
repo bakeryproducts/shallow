{
 "cells": [
  {
   "cell_type": "code",
   "execution_count": 2,
   "metadata": {
    "execution": {
     "iopub.execute_input": "2020-08-25T15:01:13.296085Z",
     "iopub.status.busy": "2020-08-25T15:01:13.295772Z",
     "iopub.status.idle": "2020-08-25T15:01:13.299302Z",
     "shell.execute_reply": "2020-08-25T15:01:13.298692Z",
     "shell.execute_reply.started": "2020-08-25T15:01:13.296045Z"
    }
   },
   "outputs": [],
   "source": [
    "import sys\n",
    "sys.path.append('src')"
   ]
  },
  {
   "cell_type": "markdown",
   "metadata": {},
   "source": [
    "# Imports"
   ]
  },
  {
   "cell_type": "code",
   "execution_count": 3,
   "metadata": {
    "execution": {
     "iopub.execute_input": "2020-08-25T15:01:13.642440Z",
     "iopub.status.busy": "2020-08-25T15:01:13.641907Z",
     "iopub.status.idle": "2020-08-25T15:01:14.356444Z",
     "shell.execute_reply": "2020-08-25T15:01:14.355712Z",
     "shell.execute_reply.started": "2020-08-25T15:01:13.642399Z"
    }
   },
   "outputs": [],
   "source": [
    "#export \n",
    "import cv2\n",
    "import torch\n",
    "import albumentations as albu\n",
    "import albumentations.pytorch as albu_pt\n",
    "\n",
    "import cv2\n",
    "import numpy as np\n",
    "import matplotlib.pyplot as plt"
   ]
  },
  {
   "cell_type": "code",
   "execution_count": 4,
   "metadata": {
    "execution": {
     "iopub.execute_input": "2020-08-25T15:01:14.364656Z",
     "iopub.status.busy": "2020-08-25T15:01:14.364463Z",
     "iopub.status.idle": "2020-08-25T15:01:14.392849Z",
     "shell.execute_reply": "2020-08-25T15:01:14.392410Z",
     "shell.execute_reply.started": "2020-08-25T15:01:14.364625Z"
    }
   },
   "outputs": [],
   "source": [
    "%load_ext autoreload\n",
    "%autoreload 2\n",
    "\n",
    "%matplotlib inline"
   ]
  },
  {
   "cell_type": "markdown",
   "metadata": {},
   "source": [
    "# Code"
   ]
  },
  {
   "cell_type": "code",
   "execution_count": 6,
   "metadata": {
    "execution": {
     "iopub.execute_input": "2020-08-25T15:07:57.869505Z",
     "iopub.status.busy": "2020-08-25T15:07:57.869196Z",
     "iopub.status.idle": "2020-08-25T15:07:57.910179Z",
     "shell.execute_reply": "2020-08-25T15:07:57.909449Z",
     "shell.execute_reply.started": "2020-08-25T15:07:57.869467Z"
    }
   },
   "outputs": [],
   "source": [
    "#export\n",
    "\n",
    "class ToTensor(albu_pt.ToTensorV2):\n",
    "    def apply_to_mask(self, mask, **params):\n",
    "        return torch.from_numpy(mask).permute((2,0,1))\n",
    "    \n",
    "    def apply(self, image, **params):\n",
    "        return torch.from_numpy(image).permute((2,0,1))\n",
    "\n",
    "def norm_aug(func):\n",
    "    def norm(*args, **kwargs):\n",
    "        mean=(0,0,0)\n",
    "        #mean = (0.36718887, 0.3378791 , 0.31245533)\n",
    "        std = (1,1,1)\n",
    "        #std =(.5,.5,.5)\n",
    "        #std = [4 * 0.09700591, 4 * 0.0953244 , 4 * 0.09326297]\n",
    "        aug_func = func(*args, **kwargs)\n",
    "        aug = albu.Compose([aug_func, albu.Normalize(mean=mean, std=std), ToTensor()])\n",
    "        return aug\n",
    "    return norm\n",
    "\n",
    "def crop_aug(func):\n",
    "    def crop(*args, **kwargs):\n",
    "        aug_func = func(*args, **kwargs)\n",
    "        size = kwargs['size']\n",
    "        _crop_aug = albu.OneOf([\n",
    "                #albu.RandomResizedCrop(size, size, scale=(0.05, 0.4)), \n",
    "                albu.RandomCrop(size,size)\n",
    "                #albu.CropNonEmptyMaskIfExists(size, size)\n",
    "            ], p=1)    \n",
    "        aug = albu.Compose([_crop_aug, aug_func])\n",
    "        return aug\n",
    "    return crop\n",
    "\n",
    "def bbox_aug(func, box_format, min_area, min_visibility):\n",
    "    def bbox(*args, **kwargs):\n",
    "        aug_func = func(*args, **kwargs)\n",
    "        _bbox_aug = albu.BboxParams(format=box_format, min_area=min_area, min_visibility=min_visibility)\n",
    "        return albu.Compose([aug_func], _bbox_aug)\n",
    "    return bbox\n",
    "\n",
    "def to_gpu(t, device):\n",
    "    return t.to(device)\n",
    "\n",
    "@norm_aug\n",
    "def get_val(*, size):\n",
    "    return albu.Compose([albu.CenterCrop(size, size)])\n",
    "\n",
    "@norm_aug\n",
    "def get_val_forced(*, size):\n",
    "    return albu.Compose([albu.CropNonEmptyMaskIfExists(size, size)])\n",
    "\n",
    "\n",
    "@norm_aug\n",
    "def get_test(*, size):\n",
    "    return albu.Compose([albu.Resize(size, size)])\n",
    "\n",
    "# def get_gpu_test(*, size):\n",
    "#     return albu.Compose([albu.Resize(size, size)])\n",
    "\n",
    "@crop_aug\n",
    "@norm_aug\n",
    "def get_light(*, size):\n",
    "    return albu.Compose([albu.Flip(), albu.RandomRotate90()])\n",
    "    "
   ]
  },
  {
   "cell_type": "code",
   "execution_count": null,
   "metadata": {},
   "outputs": [],
   "source": [
    "#export \n",
    "@crop_aug\n",
    "@norm_aug\n",
    "def get_medium(*, size):\n",
    "    return albu.Compose([\n",
    "                            albu.Flip(),\n",
    "                            albu.ShiftScaleRotate(),  # border_mode=cv2.BORDER_CONSTANT\n",
    "                            # Add occasion blur/sharpening\n",
    "                            albu.OneOf([albu.GaussianBlur(), albu.IAASharpen(), albu.NoOp()]),\n",
    "                            # Spatial-preserving augmentations:\n",
    "                            # albu.OneOf([albu.CoarseDropout(), albu.MaskDropout(max_objects=5), albu.NoOp()]),\n",
    "                            albu.GaussNoise(),\n",
    "                            albu.OneOf(\n",
    "                                [\n",
    "                                    albu.RandomBrightnessContrast(),\n",
    "                                    albu.CLAHE(),\n",
    "                                    albu.HueSaturationValue(),\n",
    "                                    albu.RGBShift(),\n",
    "                                    albu.RandomGamma(),\n",
    "                                ]\n",
    "                            ),\n",
    "                            # Weather effects\n",
    "                            albu.RandomFog(fog_coef_lower=0.01, fog_coef_upper=0.3, p=0.1),\n",
    "                        ])"
   ]
  },
  {
   "cell_type": "code",
   "execution_count": null,
   "metadata": {},
   "outputs": [],
   "source": [
    "#export \n",
    "@crop_aug\n",
    "@norm_aug\n",
    "def get_hard(*, size):\n",
    "    return albu.Compose([   \n",
    "                            albu.RandomRotate90(),\n",
    "                            albu.Transpose(),\n",
    "                            albu.RandomGridShuffle(p=0.2),\n",
    "                            albu.ShiftScaleRotate(scale_limit=0.1, rotate_limit=45, p=0.2),\n",
    "                            albu.ElasticTransform(alpha_affine=5, p=0.2),\n",
    "                            # Add occasion blur\n",
    "                            albu.OneOf([albu.GaussianBlur(), albu.GaussNoise(), albu.IAAAdditiveGaussianNoise(), albu.NoOp()]),\n",
    "                            # D4 Augmentations\n",
    "                            albu.OneOf([albu.CoarseDropout(), albu.NoOp()]),\n",
    "                            # Spatial-preserving augmentations:\n",
    "                            albu.OneOf(\n",
    "                                [\n",
    "                                    albu.RandomBrightnessContrast(brightness_by_max=True),\n",
    "                                    albu.CLAHE(),\n",
    "                                    albu.HueSaturationValue(),\n",
    "                                    albu.RGBShift(),\n",
    "                                    albu.RandomGamma(),\n",
    "                                    albu.NoOp(),\n",
    "                                ]\n",
    "                            ),\n",
    "                            # Weather effects\n",
    "                            albu.OneOf([albu.RandomFog(fog_coef_lower=0.01, fog_coef_upper=0.3, p=0.1), albu.NoOp()]),\n",
    "                        ])"
   ]
  },
  {
   "cell_type": "code",
   "execution_count": null,
   "metadata": {},
   "outputs": [],
   "source": []
  },
  {
   "cell_type": "code",
   "execution_count": 7,
   "metadata": {
    "execution": {
     "iopub.execute_input": "2020-08-25T15:22:53.492916Z",
     "iopub.status.busy": "2020-08-25T15:22:53.492510Z",
     "iopub.status.idle": "2020-08-25T15:22:53.527707Z",
     "shell.execute_reply": "2020-08-25T15:22:53.526968Z",
     "shell.execute_reply.started": "2020-08-25T15:22:53.492874Z"
    }
   },
   "outputs": [],
   "source": [
    "#export \n",
    "def _get_types():\n",
    "    types = {\n",
    "        \"val\" : get_val,\n",
    "        \"test\" : get_test,\n",
    "        \"gpu_test\" : get_test,\n",
    "        \"light\" : get_light,\n",
    "        \"medium\" : get_medium,\n",
    "        \"hard\": get_hard,\n",
    "    }\n",
    "    return types\n",
    "    \n",
    "def get_aug(aug_type=\"val\", size=256):\n",
    "    \"\"\"aug_type (str): one of `val`, `test`, `light`, `medium`, `hard`\n",
    "       size (int): final size of the crop\"\"\"\n",
    "    types = _get_types()\n",
    "    return types[aug_type](size=size)\n",
    "\n",
    "def get_bbox_aug(aug_type=\"val\", size=256, min_area=0, min_visibility=0):\n",
    "    types = {k:bbox_aug(v, 'pascal_voc', min_area, min_visibility) for k,v in _get_types().items()}\n",
    "    return types[aug_type](size=size)"
   ]
  },
  {
   "cell_type": "code",
   "execution_count": null,
   "metadata": {},
   "outputs": [],
   "source": []
  },
  {
   "cell_type": "code",
   "execution_count": null,
   "metadata": {},
   "outputs": [],
   "source": []
  },
  {
   "cell_type": "code",
   "execution_count": null,
   "metadata": {},
   "outputs": [],
   "source": []
  },
  {
   "cell_type": "code",
   "execution_count": null,
   "metadata": {},
   "outputs": [],
   "source": []
  },
  {
   "cell_type": "code",
   "execution_count": null,
   "metadata": {},
   "outputs": [],
   "source": []
  },
  {
   "cell_type": "code",
   "execution_count": null,
   "metadata": {},
   "outputs": [],
   "source": []
  }
 ],
 "metadata": {
  "kernelspec": {
   "display_name": "Python 3",
   "language": "python",
   "name": "python3"
  },
  "language_info": {
   "codemirror_mode": {
    "name": "ipython",
    "version": 3
   },
   "file_extension": ".py",
   "mimetype": "text/x-python",
   "name": "python",
   "nbconvert_exporter": "python",
   "pygments_lexer": "ipython3",
   "version": "3.6.9"
  }
 },
 "nbformat": 4,
 "nbformat_minor": 4
}
