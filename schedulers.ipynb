{
 "cells": [
  {
   "cell_type": "code",
   "execution_count": null,
   "metadata": {},
   "outputs": [],
   "source": [
    "import sys\n",
    "sys.path.append('src')"
   ]
  },
  {
   "cell_type": "markdown",
   "metadata": {},
   "source": [
    "# Imports"
   ]
  },
  {
   "cell_type": "code",
   "execution_count": null,
   "metadata": {},
   "outputs": [],
   "source": [
    "#export\n",
    "from functools import partial"
   ]
  },
  {
   "cell_type": "code",
   "execution_count": null,
   "metadata": {},
   "outputs": [],
   "source": []
  },
  {
   "cell_type": "markdown",
   "metadata": {},
   "source": [
    "# Code"
   ]
  },
  {
   "cell_type": "code",
   "execution_count": null,
   "metadata": {},
   "outputs": [],
   "source": [
    "def annealer(f):\n",
    "    def _inner(start, end): return partial(f, start, end)\n",
    "    return _inner\n",
    "\n",
    "@annealer\n",
    "def sched_lin(start, end, pos): return start + pos*(end-start)"
   ]
  },
  {
   "cell_type": "code",
   "execution_count": null,
   "metadata": {},
   "outputs": [],
   "source": []
  },
  {
   "cell_type": "code",
   "execution_count": 1,
   "metadata": {
    "execution": {
     "iopub.execute_input": "2020-08-24T11:18:04.521004Z",
     "iopub.status.busy": "2020-08-24T11:18:04.520735Z",
     "iopub.status.idle": "2020-08-24T11:18:04.524064Z",
     "shell.execute_reply": "2020-08-24T11:18:04.523612Z",
     "shell.execute_reply.started": "2020-08-24T11:18:04.520967Z"
    }
   },
   "outputs": [],
   "source": [
    "from types import SimpleNamespace"
   ]
  },
  {
   "cell_type": "code",
   "execution_count": 2,
   "metadata": {
    "execution": {
     "iopub.execute_input": "2020-08-24T11:18:18.992135Z",
     "iopub.status.busy": "2020-08-24T11:18:18.991891Z",
     "iopub.status.idle": "2020-08-24T11:18:18.995441Z",
     "shell.execute_reply": "2020-08-24T11:18:18.994926Z",
     "shell.execute_reply.started": "2020-08-24T11:18:18.992102Z"
    }
   },
   "outputs": [],
   "source": [
    "s = SimpleNamespace(a=1, b=2.0,c='3')"
   ]
  },
  {
   "cell_type": "code",
   "execution_count": 5,
   "metadata": {
    "execution": {
     "iopub.execute_input": "2020-08-24T11:18:43.057915Z",
     "iopub.status.busy": "2020-08-24T11:18:43.057663Z",
     "iopub.status.idle": "2020-08-24T11:18:43.061489Z",
     "shell.execute_reply": "2020-08-24T11:18:43.060975Z",
     "shell.execute_reply.started": "2020-08-24T11:18:43.057881Z"
    }
   },
   "outputs": [
    {
     "data": {
      "text/plain": [
       "namespace(a=1, b=2.0, c='3')"
      ]
     },
     "execution_count": 5,
     "metadata": {},
     "output_type": "execute_result"
    }
   ],
   "source": [
    "s"
   ]
  },
  {
   "cell_type": "code",
   "execution_count": 10,
   "metadata": {
    "execution": {
     "iopub.execute_input": "2020-08-24T11:23:09.829039Z",
     "iopub.status.busy": "2020-08-24T11:23:09.828784Z",
     "iopub.status.idle": "2020-08-24T11:23:09.832261Z",
     "shell.execute_reply": "2020-08-24T11:23:09.831867Z",
     "shell.execute_reply.started": "2020-08-24T11:23:09.829004Z"
    }
   },
   "outputs": [
    {
     "data": {
      "text/plain": [
       "{'a': 1, 'b': 2.0, 'c': '3'}"
      ]
     },
     "execution_count": 10,
     "metadata": {},
     "output_type": "execute_result"
    }
   ],
   "source": [
    "s.__dict__"
   ]
  },
  {
   "cell_type": "code",
   "execution_count": 6,
   "metadata": {
    "execution": {
     "iopub.execute_input": "2020-08-24T11:22:40.944781Z",
     "iopub.status.busy": "2020-08-24T11:22:40.944527Z",
     "iopub.status.idle": "2020-08-24T11:22:40.947942Z",
     "shell.execute_reply": "2020-08-24T11:22:40.947486Z",
     "shell.execute_reply.started": "2020-08-24T11:22:40.944747Z"
    }
   },
   "outputs": [],
   "source": [
    "\n",
    "\n",
    "class S(object):\n",
    "\n",
    "    __slots__ = ['val']\n",
    "\n",
    "    def __init__(self, v):\n",
    "        self.val = v\n"
   ]
  },
  {
   "cell_type": "code",
   "execution_count": 7,
   "metadata": {
    "execution": {
     "iopub.execute_input": "2020-08-24T11:22:44.528802Z",
     "iopub.status.busy": "2020-08-24T11:22:44.528545Z",
     "iopub.status.idle": "2020-08-24T11:22:44.532301Z",
     "shell.execute_reply": "2020-08-24T11:22:44.531744Z",
     "shell.execute_reply.started": "2020-08-24T11:22:44.528766Z"
    }
   },
   "outputs": [
    {
     "name": "stdout",
     "output_type": "stream",
     "text": [
      "42\n"
     ]
    }
   ],
   "source": [
    "\n",
    "x = S(42)\n",
    "print(x.val)"
   ]
  },
  {
   "cell_type": "code",
   "execution_count": 8,
   "metadata": {
    "execution": {
     "iopub.execute_input": "2020-08-24T11:22:53.461232Z",
     "iopub.status.busy": "2020-08-24T11:22:53.460968Z",
     "iopub.status.idle": "2020-08-24T11:22:53.591520Z",
     "shell.execute_reply": "2020-08-24T11:22:53.590657Z",
     "shell.execute_reply.started": "2020-08-24T11:22:53.461197Z"
    }
   },
   "outputs": [
    {
     "ename": "AttributeError",
     "evalue": "'S' object has no attribute '__dict__'",
     "output_type": "error",
     "traceback": [
      "\u001b[0;31m---------------------------------------------------------------------------\u001b[0m",
      "\u001b[0;31mAttributeError\u001b[0m                            Traceback (most recent call last)",
      "\u001b[0;32m<ipython-input-8-101207a4ddc3>\u001b[0m in \u001b[0;36m<module>\u001b[0;34m\u001b[0m\n\u001b[0;32m----> 1\u001b[0;31m \u001b[0mx\u001b[0m\u001b[0;34m.\u001b[0m\u001b[0m__dict__\u001b[0m\u001b[0;34m\u001b[0m\u001b[0;34m\u001b[0m\u001b[0m\n\u001b[0m",
      "\u001b[0;31mAttributeError\u001b[0m: 'S' object has no attribute '__dict__'"
     ]
    }
   ],
   "source": [
    "x.__dict__"
   ]
  },
  {
   "cell_type": "code",
   "execution_count": 9,
   "metadata": {
    "execution": {
     "iopub.execute_input": "2020-08-24T11:23:02.868454Z",
     "iopub.status.busy": "2020-08-24T11:23:02.868198Z",
     "iopub.status.idle": "2020-08-24T11:23:02.871982Z",
     "shell.execute_reply": "2020-08-24T11:23:02.871519Z",
     "shell.execute_reply.started": "2020-08-24T11:23:02.868418Z"
    }
   },
   "outputs": [
    {
     "data": {
      "text/plain": [
       "['val']"
      ]
     },
     "execution_count": 9,
     "metadata": {},
     "output_type": "execute_result"
    }
   ],
   "source": [
    "x.__slots__"
   ]
  },
  {
   "cell_type": "code",
   "execution_count": null,
   "metadata": {},
   "outputs": [],
   "source": []
  },
  {
   "cell_type": "code",
   "execution_count": null,
   "metadata": {},
   "outputs": [],
   "source": []
  },
  {
   "cell_type": "code",
   "execution_count": null,
   "metadata": {},
   "outputs": [],
   "source": []
  }
 ],
 "metadata": {
  "kernelspec": {
   "display_name": "Python 3",
   "language": "python",
   "name": "python3"
  },
  "language_info": {
   "codemirror_mode": {
    "name": "ipython",
    "version": 3
   },
   "file_extension": ".py",
   "mimetype": "text/x-python",
   "name": "python",
   "nbconvert_exporter": "python",
   "pygments_lexer": "ipython3",
   "version": "3.6.9"
  }
 },
 "nbformat": 4,
 "nbformat_minor": 4
}
