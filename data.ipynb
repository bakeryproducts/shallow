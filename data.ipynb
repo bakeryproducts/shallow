{
 "cells": [
  {
   "cell_type": "code",
   "execution_count": 1,
   "metadata": {
    "execution": {
     "iopub.execute_input": "2020-08-21T08:36:51.869073Z",
     "iopub.status.busy": "2020-08-21T08:36:51.868783Z",
     "iopub.status.idle": "2020-08-21T08:36:51.872323Z",
     "shell.execute_reply": "2020-08-21T08:36:51.871761Z",
     "shell.execute_reply.started": "2020-08-21T08:36:51.869033Z"
    }
   },
   "outputs": [],
   "source": [
    "import sys\n",
    "sys.path.append('src')"
   ]
  },
  {
   "cell_type": "markdown",
   "metadata": {},
   "source": [
    "# Imports"
   ]
  },
  {
   "cell_type": "code",
   "execution_count": 230,
   "metadata": {
    "execution": {
     "iopub.execute_input": "2020-08-21T10:20:21.757839Z",
     "iopub.status.busy": "2020-08-21T10:20:21.757588Z",
     "iopub.status.idle": "2020-08-21T10:20:21.761996Z",
     "shell.execute_reply": "2020-08-21T10:20:21.761117Z",
     "shell.execute_reply.started": "2020-08-21T10:20:21.757805Z"
    }
   },
   "outputs": [],
   "source": [
    "#export\n",
    "from pathlib import Path\n",
    "from functools import lru_cache, partial\n",
    "\n",
    "# from tqdm.auto import tqdm\n",
    "from tqdm.notebook import tqdm\n",
    "\n",
    "import os\n",
    "import cv2\n",
    "import yaml\n",
    "import numpy as np\n",
    "import albumentations as albu\n",
    "import torch\n",
    "from torch.utils.data import DataLoader\n",
    "from torch.utils.data.dataset import ConcatDataset as ConcatDataset\n",
    "\n",
    "import nb_utils"
   ]
  },
  {
   "cell_type": "code",
   "execution_count": 201,
   "metadata": {
    "execution": {
     "iopub.execute_input": "2020-08-21T10:13:39.036121Z",
     "iopub.status.busy": "2020-08-21T10:13:39.035812Z",
     "iopub.status.idle": "2020-08-21T10:13:39.042931Z",
     "shell.execute_reply": "2020-08-21T10:13:39.042304Z",
     "shell.execute_reply.started": "2020-08-21T10:13:39.036088Z"
    }
   },
   "outputs": [],
   "source": [
    "from pprint import pprint"
   ]
  },
  {
   "cell_type": "markdown",
   "metadata": {},
   "source": [
    "# Code"
   ]
  },
  {
   "cell_type": "markdown",
   "metadata": {},
   "source": [
    "## Datasets"
   ]
  },
  {
   "cell_type": "code",
   "execution_count": 285,
   "metadata": {
    "execution": {
     "iopub.execute_input": "2020-08-21T10:47:08.452890Z",
     "iopub.status.busy": "2020-08-21T10:47:08.452613Z",
     "iopub.status.idle": "2020-08-21T10:47:08.470165Z",
     "shell.execute_reply": "2020-08-21T10:47:08.469481Z",
     "shell.execute_reply.started": "2020-08-21T10:47:08.452856Z"
    }
   },
   "outputs": [],
   "source": [
    "#export\n",
    "    \n",
    "class Dataset:\n",
    "    def __init__(self, root, pattern):\n",
    "        self.pattern = pattern\n",
    "        self.root = Path(root)\n",
    "        files = list(self.root.rglob(self.pattern))\n",
    "        self.files = sorted(files)\n",
    "        \n",
    "    def load_item(self, idx):\n",
    "        raise NotImplementedError\n",
    "    \n",
    "    def __getitem__(self, idx):\n",
    "        item = self.load_item(idx)\n",
    "        return item\n",
    "    \n",
    "    def __len__(self):\n",
    "        return len(self.files)\n",
    "    \n",
    "class ImageDataset(Dataset):\n",
    "    def load_item(self, idx):\n",
    "        img_path = self.files[idx]\n",
    "        img = cv2.imread(str(img_path))\n",
    "        #img = cv2.cvtColor(cv2.imread(str(img_path)), cv2.COLOR_BGR2RGB)\n",
    "        return img\n",
    "    \n",
    "class PairDataset:\n",
    "    def __init__(self, ds1, ds2):\n",
    "        self.ds1, self.ds2 = ds1, ds2\n",
    "        assert len(self.ds1) == len(self.ds2)\n",
    "    \n",
    "    def __getitem__(self, idx):\n",
    "        return self.ds1.__getitem__(idx), self.ds2.__getitem__(idx) \n",
    "    \n",
    "    def __len__(self):\n",
    "        return len(self.ds1)\n",
    "    \n",
    "class TransformDataset:\n",
    "    def __init__(self, dataset, transforms, is_masked=False):\n",
    "        self.dataset = dataset\n",
    "        self.transforms = albu.Compose([]) if transforms is None else transforms\n",
    "        self.is_masked = is_masked\n",
    "    \n",
    "    def __getitem__(self, idx):\n",
    "        item = self.dataset.__getitem__(idx)\n",
    "        if self.is_masked:\n",
    "            img, mask = item\n",
    "            augmented = self.transforms(image=img, mask=mask)\n",
    "            return augmented[\"image\"], augmented[\"mask\"]\n",
    "        else:\n",
    "            return self.transforms(image=item[0], mask=None)['image']\n",
    "    \n",
    "    def __len__(self):\n",
    "        return len(self.dataset)\n",
    "    \n",
    "class MultiplyDataset:\n",
    "    def __init__(self, dataset, rate):\n",
    "        _dataset = ConcatDataset([dataset])\n",
    "        for i in range(rate-1):\n",
    "            _dataset += ConcatDataset([dataset])\n",
    "        self.dataset = _dataset\n",
    "        \n",
    "    def __getitem__(self, idx):\n",
    "        return self.dataset.__getitem__(idx)\n",
    "    \n",
    "    def __len__(self):\n",
    "        return len(self.dataset)\n",
    "    \n",
    "class CachingDataset:\n",
    "    def __init__(self, dataset):\n",
    "        self.dataset = dataset\n",
    "            \n",
    "    @lru_cache(maxsize=None)\n",
    "    def __getitem__(self, idx):\n",
    "        return self.dataset.__getitem__(idx)\n",
    "    \n",
    "    def __len__(self):\n",
    "        return len(self.dataset)\n",
    "\n",
    "    \n",
    "class PreloadingDataset:\n",
    "    def __init__(self, dataset, num_proc=False):\n",
    "        self.dataset = dataset\n",
    "        self.num_proc = num_proc\n",
    "        if self.num_proc:\n",
    "            self.data = nb_utils.mp_func_gen(self.preload_data, range(len(self.dataset)) , self.num_proc)\n",
    "        else:\n",
    "            self.data = self.preload_data((self.dataset, range(len(self.dataset))))\n",
    "        \n",
    "    def preload_data(self, args):\n",
    "        idxs = args\n",
    "        data = []\n",
    "        for i in idxs:\n",
    "            r = self.dataset.__getitem__(i)\n",
    "            data.append(r)\n",
    "        return data\n",
    "    \n",
    "    def __getitem__(self, idx):\n",
    "        return self.data[idx]\n",
    "    \n",
    "    def __len__(self):\n",
    "        return len(self.data)\n",
    "    \n",
    "    \n",
    "class GpuPreloadingDataset:\n",
    "    def __init__(self, dataset, devices):\n",
    "        self.dataset = dataset\n",
    "        self.devices = devices\n",
    "        self.data = self.preload_data()\n",
    "        \n",
    "    def preload_data(self):\n",
    "        data = []\n",
    "        for i in range(len(self.dataset)):\n",
    "            item, idx = self.dataset.__getitem__(i)\n",
    "            item = item.to(self.devices[0])\n",
    "            data.append((item, idx))\n",
    "        return data\n",
    "    \n",
    "    def __getitem__(self, idx):\n",
    "        return self.data[idx]\n",
    "   \n",
    "    def __len__(self):\n",
    "        return len(self.dataset)"
   ]
  },
  {
   "cell_type": "code",
   "execution_count": null,
   "metadata": {},
   "outputs": [],
   "source": []
  },
  {
   "cell_type": "markdown",
   "metadata": {},
   "source": [
    "## Dataset catalog"
   ]
  },
  {
   "cell_type": "code",
   "execution_count": 286,
   "metadata": {
    "execution": {
     "iopub.execute_input": "2020-08-21T10:47:11.560177Z",
     "iopub.status.busy": "2020-08-21T10:47:11.559914Z",
     "iopub.status.idle": "2020-08-21T10:47:11.565313Z",
     "shell.execute_reply": "2020-08-21T10:47:11.564788Z",
     "shell.execute_reply.started": "2020-08-21T10:47:11.560142Z"
    }
   },
   "outputs": [],
   "source": [
    "#export\n",
    "class DatasetCatalog():\n",
    "    DATA_DIR = \"/tmp/\"\n",
    "    DATA_DIR_MNT = \"/mnt/tmp\"\n",
    "    \n",
    "    DATASETS = {\n",
    "        \"default\": {\n",
    "            'factory':'default',\n",
    "            \"root\": \"def_root\",\n",
    "        }\n",
    "    }\n",
    "    @staticmethod \n",
    "    def create_factory_dict(data_dir, dataset_attrs):\n",
    "        #{factory:Dataset, args:args}\n",
    "        raise NotImplementedError\n",
    "    \n",
    "    @classmethod \n",
    "    def get(cls, name):\n",
    "        try:\n",
    "            attrs = cls.DATASETS[name]\n",
    "        except:\n",
    "            print(cls.DATASETS)\n",
    "            raise RuntimeError(\"Dataset not available: {}\".format(name))\n",
    "            \n",
    "        if os.path.exists(cls.DATA_DIR):\n",
    "            data_dir = cls.DATA_DIR\n",
    "        elif os.path.exists(cls.DATA_DIR_MNT):\n",
    "            data_dir = cls.DATA_DIR_MNT\n",
    "            \n",
    "        return cls.create_factory_dict(data_dir, attrs)\n",
    "        "
   ]
  },
  {
   "cell_type": "markdown",
   "metadata": {},
   "source": [
    "## Builders"
   ]
  },
  {
   "cell_type": "code",
   "execution_count": 405,
   "metadata": {
    "execution": {
     "iopub.execute_input": "2020-08-21T11:22:41.148204Z",
     "iopub.status.busy": "2020-08-21T11:22:41.147926Z",
     "iopub.status.idle": "2020-08-21T11:22:41.159733Z",
     "shell.execute_reply": "2020-08-21T11:22:41.159170Z",
     "shell.execute_reply.started": "2020-08-21T11:22:41.148169Z"
    }
   },
   "outputs": [],
   "source": [
    "#export\n",
    "\n",
    "# dataset_factories = {'termit':TermitDataset}\n",
    "# transform_factories = {'TRAIN':{'factory':TransformDataset_Partial_HARD, 'transform_getter':get_aug}}\n",
    "# extend_factories = {'GPU_PRELOAD':GpuPreloadingDataset_Partial_GPU0}\n",
    "# dataset_types = ['TRAIN', 'VALID', 'TEST']\n",
    "# datasets = {'TRAIN': dataset1, 'VALID': ...}\n",
    "    \n",
    "def extend_dataset(ds, data_field, extend_factories):\n",
    "    for k, factory in extend_factories.items():\n",
    "        field_val = data_field.get(k, None) \n",
    "        if field_val:\n",
    "            args = {}\n",
    "            if isinstance(field_val, dict): args.update(field_val)\n",
    "            ds = factory(ds, **args)\n",
    "    return ds\n",
    "\n",
    "def extend_all_datasets(cfg, datasets, extend_factories):\n",
    "    extended_datasets = {}\n",
    "    for kind, ds in datasets.items():\n",
    "        extended_datasets[kind] = extend_dataset(ds, cfg.DATA[kind], extend_factories)\n",
    "    return extended_datasets\n",
    "\n",
    "class DatasetBuilder:\n",
    "    def __init__(self, cfg,\n",
    "                       catalog,\n",
    "                       dataset_factories,\n",
    "                       transform_factory,\n",
    "                       dataset_types=['TRAIN', 'VALID', 'TEST']):\n",
    "        nb_utils.store_attr(self, locals())\n",
    "        \n",
    "    def build_datasets(self):\n",
    "        transformers = self._build_transformers()\n",
    "        converted_datasets = {}\n",
    "        for dataset_type in self.dataset_types:\n",
    "            data_field = self.cfg.DATA[dataset_type]\n",
    "            datasets_strings = data_field.DATASETS\n",
    "\n",
    "            if datasets_strings:\n",
    "                datasets = [self._create_dataset_fact(ds) for ds in datasets_strings]\n",
    "                ds = ConcatDataset(datasets) if len(datasets)>1 else datasets[0] \n",
    "                ds = transformers[dataset_type](ds)\n",
    "                converted_datasets[dataset_type] = ds\n",
    "        return converted_datasets\n",
    "    \n",
    "    def _create_dataset_fact(self, ds):\n",
    "        dataset_attrs = self.catalog.get(ds)\n",
    "        factory = self.dataset_factories[dataset_attrs['factory']]\n",
    "        return factory(**dataset_attrs['args'])\n",
    "    \n",
    "    def _build_transformers(self):\n",
    "        transformers = {}\n",
    "        for dataset_type in self.dataset_types:\n",
    "            aug_type = self.cfg.TRANSFORMERS[dataset_type]['AUG']\n",
    "            args={\n",
    "                'aug_type':aug_type,\n",
    "                'size':self.cfg.TRANSFORMERS.CROP_SIZE\n",
    "            }\n",
    "            transform_getter = self.transform_factory[dataset_type]['transform_getter'](**args)\n",
    "            transformer = partial(self.transform_factory[dataset_type]['factory'], transforms=transform_getter)\n",
    "            transformers[dataset_type] = transformer\n",
    "        return transformers"
   ]
  },
  {
   "cell_type": "code",
   "execution_count": null,
   "metadata": {},
   "outputs": [],
   "source": [
    "#export\n",
    "def build_dataloader(cfg, dataset, sampler=None, batch_size=1, num_workers=0, drop_last=False, pin=False):\n",
    "    collate_fn=None\n",
    "    data_loader = DataLoader(\n",
    "        dataset,\n",
    "        batch_size=batch_size,\n",
    "        shuffle=(sampler is None),\n",
    "        num_workers=num_workers,\n",
    "        pin_memory=pin,\n",
    "        drop_last=drop_last,\n",
    "        collate_fn=collate_fn,\n",
    "        sampler=sampler,\n",
    "    )\n",
    "    return data_loader"
   ]
  },
  {
   "cell_type": "code",
   "execution_count": null,
   "metadata": {},
   "outputs": [],
   "source": [
    "\n",
    "if cfg.PARALLEL.DDP:\n",
    "sampler = torch.utils.data.distributed.DistributedSampler(dataset,\n",
    "                                                            num_replicas=cfg.PARALLEL.WORLD_SIZE,\n",
    "                                                            rank=cfg.PARALLEL.LOCAL_RANK,\n",
    "                                                            shuffle=True)#!!!"
   ]
  },
  {
   "cell_type": "markdown",
   "metadata": {},
   "source": [
    "# Tests"
   ]
  },
  {
   "cell_type": "markdown",
   "metadata": {
    "collapsed": "true"
   },
   "source": [
    "## test datasets"
   ]
  },
  {
   "cell_type": "code",
   "execution_count": 4,
   "metadata": {
    "execution": {
     "iopub.execute_input": "2020-08-21T08:36:58.782263Z",
     "iopub.status.busy": "2020-08-21T08:36:58.782014Z",
     "iopub.status.idle": "2020-08-21T08:36:58.786192Z",
     "shell.execute_reply": "2020-08-21T08:36:58.785479Z",
     "shell.execute_reply.started": "2020-08-21T08:36:58.782238Z"
    }
   },
   "outputs": [],
   "source": [
    "imgs_path = './test_data/validation_1_1/'"
   ]
  },
  {
   "cell_type": "markdown",
   "metadata": {
    "collapsed": "true",
    "execution": {
     "iopub.execute_input": "2020-08-21T08:38:12.613003Z",
     "iopub.status.busy": "2020-08-21T08:38:12.612759Z",
     "iopub.status.idle": "2020-08-21T08:38:12.615819Z",
     "shell.execute_reply": "2020-08-21T08:38:12.615267Z",
     "shell.execute_reply.started": "2020-08-21T08:38:12.612970Z"
    }
   },
   "source": [
    "### 1"
   ]
  },
  {
   "cell_type": "code",
   "execution_count": 5,
   "metadata": {
    "execution": {
     "iopub.execute_input": "2020-08-21T08:36:58.978988Z",
     "iopub.status.busy": "2020-08-21T08:36:58.978756Z",
     "iopub.status.idle": "2020-08-21T08:36:59.034124Z",
     "shell.execute_reply": "2020-08-21T08:36:59.033371Z",
     "shell.execute_reply.started": "2020-08-21T08:36:58.978957Z"
    }
   },
   "outputs": [],
   "source": [
    "d1 = Dataset(imgs_path, 'aimg*.png')\n",
    "assert len(d1) == 4612\n",
    "try:\n",
    "    d1[0]\n",
    "except NotImplementedError:\n",
    "    pass\n",
    "except Exception as e:\n",
    "    raise e"
   ]
  },
  {
   "cell_type": "markdown",
   "metadata": {
    "collapsed": "true"
   },
   "source": [
    "### 2"
   ]
  },
  {
   "cell_type": "code",
   "execution_count": 6,
   "metadata": {
    "execution": {
     "iopub.execute_input": "2020-08-21T08:36:59.177215Z",
     "iopub.status.busy": "2020-08-21T08:36:59.176947Z",
     "iopub.status.idle": "2020-08-21T08:36:59.646382Z",
     "shell.execute_reply": "2020-08-21T08:36:59.645775Z",
     "shell.execute_reply.started": "2020-08-21T08:36:59.177182Z"
    }
   },
   "outputs": [
    {
     "data": {
      "text/plain": [
       "((4096, 4096, 3), (64, 64, 3))"
      ]
     },
     "execution_count": 6,
     "metadata": {},
     "output_type": "execute_result"
    }
   ],
   "source": [
    "d2 = ImageDataset(imgs_path, 'aimg_*')\n",
    "assert len(d2) == 4612\n",
    "d3 = ImageDataset(imgs_path, 'mask_*')\n",
    "assert len(d3) == 4612\n",
    "d2[0].shape, d3[0].shape"
   ]
  },
  {
   "cell_type": "markdown",
   "metadata": {
    "collapsed": "true"
   },
   "source": [
    "### 3"
   ]
  },
  {
   "cell_type": "code",
   "execution_count": 7,
   "metadata": {
    "execution": {
     "iopub.execute_input": "2020-08-20T16:19:42.618212Z",
     "iopub.status.busy": "2020-08-20T16:19:42.617946Z",
     "iopub.status.idle": "2020-08-20T16:19:44.057131Z",
     "shell.execute_reply": "2020-08-20T16:19:44.056560Z",
     "shell.execute_reply.started": "2020-08-20T16:19:42.618177Z"
    }
   },
   "outputs": [
    {
     "data": {
      "text/plain": [
       "(True, True)"
      ]
     },
     "execution_count": 7,
     "metadata": {},
     "output_type": "execute_result"
    }
   ],
   "source": [
    "d4 = PairDataset(d2, d3)\n",
    "assert len(d4) == 4612\n",
    "i,ii = d4[0]\n",
    "j, jj = d2[0], d3[0]\n",
    "np.allclose(i,j), np.allclose(ii,jj)"
   ]
  },
  {
   "cell_type": "markdown",
   "metadata": {
    "collapsed": "true"
   },
   "source": [
    "### transforms dataset"
   ]
  },
  {
   "cell_type": "code",
   "execution_count": 9,
   "metadata": {
    "execution": {
     "iopub.execute_input": "2020-08-20T16:01:03.969379Z",
     "iopub.status.busy": "2020-08-20T16:01:03.969210Z",
     "iopub.status.idle": "2020-08-20T16:01:04.328812Z",
     "shell.execute_reply": "2020-08-20T16:01:04.327155Z",
     "shell.execute_reply.started": "2020-08-20T16:01:03.969352Z"
    }
   },
   "outputs": [
    {
     "data": {
      "text/plain": [
       "((50, 50, 3), (50, 50, 3))"
      ]
     },
     "execution_count": 9,
     "metadata": {},
     "output_type": "execute_result"
    }
   ],
   "source": [
    "transforms = albu.Compose([albu.CenterCrop(50, 50)])\n",
    "d5 = TransformDataset(d4, transforms=transforms, is_masked=True)\n",
    "i = d5[0]\n",
    "i[0].shape, i[1].shape"
   ]
  },
  {
   "cell_type": "markdown",
   "metadata": {
    "collapsed": "true"
   },
   "source": [
    "### multiply"
   ]
  },
  {
   "cell_type": "code",
   "execution_count": 10,
   "metadata": {
    "execution": {
     "iopub.execute_input": "2020-08-20T16:01:06.450468Z",
     "iopub.status.busy": "2020-08-20T16:01:06.450189Z",
     "iopub.status.idle": "2020-08-20T16:01:06.453880Z",
     "shell.execute_reply": "2020-08-20T16:01:06.453258Z",
     "shell.execute_reply.started": "2020-08-20T16:01:06.450430Z"
    }
   },
   "outputs": [],
   "source": [
    "mult = 2\n",
    "d6 = MultiplyDataset(d2, mult)\n",
    "assert len(d6) // mult == len(d2)"
   ]
  },
  {
   "cell_type": "markdown",
   "metadata": {
    "collapsed": "true"
   },
   "source": [
    "### cache"
   ]
  },
  {
   "cell_type": "code",
   "execution_count": 10,
   "metadata": {
    "execution": {
     "iopub.execute_input": "2020-08-20T15:55:47.841760Z",
     "iopub.status.busy": "2020-08-20T15:55:47.841478Z",
     "iopub.status.idle": "2020-08-20T15:55:47.844467Z",
     "shell.execute_reply": "2020-08-20T15:55:47.844034Z",
     "shell.execute_reply.started": "2020-08-20T15:55:47.841726Z"
    }
   },
   "outputs": [],
   "source": [
    "d7 = CachingDataset(d2)"
   ]
  },
  {
   "cell_type": "code",
   "execution_count": 11,
   "metadata": {
    "execution": {
     "iopub.execute_input": "2020-08-20T15:55:48.484735Z",
     "iopub.status.busy": "2020-08-20T15:55:48.484426Z",
     "iopub.status.idle": "2020-08-20T15:55:48.829699Z",
     "shell.execute_reply": "2020-08-20T15:55:48.828974Z",
     "shell.execute_reply.started": "2020-08-20T15:55:48.484693Z"
    }
   },
   "outputs": [
    {
     "name": "stdout",
     "output_type": "stream",
     "text": [
      "The slowest run took 26989.51 times longer than the fastest. This could mean that an intermediate result is being cached.\n",
      "339 µs ± 1.02 ms per loop (mean ± std. dev. of 10 runs, 100 loops each)\n"
     ]
    }
   ],
   "source": [
    "%%timeit -r 10 -n 100\n",
    "d7[0]"
   ]
  },
  {
   "cell_type": "code",
   "execution_count": 13,
   "metadata": {
    "execution": {
     "iopub.execute_input": "2020-08-20T15:56:30.558650Z",
     "iopub.status.busy": "2020-08-20T15:56:30.558366Z",
     "iopub.status.idle": "2020-08-20T15:56:32.319242Z",
     "shell.execute_reply": "2020-08-20T15:56:32.318526Z",
     "shell.execute_reply.started": "2020-08-20T15:56:30.558616Z"
    }
   },
   "outputs": [
    {
     "name": "stdout",
     "output_type": "stream",
     "text": [
      "351 ms ± 0 ns per loop (mean ± std. dev. of 1 run, 5 loops each)\n"
     ]
    }
   ],
   "source": [
    "%%timeit -r 1 -n 5\n",
    "d2[1]"
   ]
  },
  {
   "cell_type": "markdown",
   "metadata": {
    "collapsed": "true"
   },
   "source": [
    "### preloading"
   ]
  },
  {
   "cell_type": "code",
   "execution_count": 7,
   "metadata": {
    "execution": {
     "iopub.execute_input": "2020-08-21T08:37:02.639159Z",
     "iopub.status.busy": "2020-08-21T08:37:02.638890Z",
     "iopub.status.idle": "2020-08-21T08:37:02.659692Z",
     "shell.execute_reply": "2020-08-21T08:37:02.659134Z",
     "shell.execute_reply.started": "2020-08-21T08:37:02.639121Z"
    }
   },
   "outputs": [
    {
     "data": {
      "text/plain": [
       "111"
      ]
     },
     "execution_count": 7,
     "metadata": {},
     "output_type": "execute_result"
    }
   ],
   "source": [
    "_d8 = ImageDataset(imgs_path, 'aimg_9*.png')\n",
    "d8 = PreloadingDataset(_d8, num_proc=8)\n",
    "assert len(_d8) == len(d8)"
   ]
  },
  {
   "cell_type": "code",
   "execution_count": 11,
   "metadata": {
    "execution": {
     "iopub.execute_input": "2020-08-21T08:37:37.855675Z",
     "iopub.status.busy": "2020-08-21T08:37:37.855409Z",
     "iopub.status.idle": "2020-08-21T08:37:37.860895Z",
     "shell.execute_reply": "2020-08-21T08:37:37.860277Z",
     "shell.execute_reply.started": "2020-08-21T08:37:37.855640Z"
    }
   },
   "outputs": [
    {
     "name": "stdout",
     "output_type": "stream",
     "text": [
      "140 ns ± 32.6 ns per loop (mean ± std. dev. of 10 runs, 100 loops each)\n"
     ]
    }
   ],
   "source": [
    "%%timeit -r 10 -n 100\n",
    "d8[18]"
   ]
  },
  {
   "cell_type": "markdown",
   "metadata": {
    "collapsed": "true"
   },
   "source": [
    "## test catalog"
   ]
  },
  {
   "cell_type": "code",
   "execution_count": 378,
   "metadata": {
    "execution": {
     "iopub.execute_input": "2020-08-21T11:15:53.138611Z",
     "iopub.status.busy": "2020-08-21T11:15:53.138279Z",
     "iopub.status.idle": "2020-08-21T11:15:53.146333Z",
     "shell.execute_reply": "2020-08-21T11:15:53.145763Z",
     "shell.execute_reply.started": "2020-08-21T11:15:53.138563Z"
    }
   },
   "outputs": [],
   "source": [
    "class MyDatasetCatalog(DatasetCatalog):\n",
    "    DATA_DIR = \"/home/sokolov/work/tmp/shallow_proto/test_data/\"\n",
    "    DATA_DIR_MNT = \"/mnt/input/term\"\n",
    "    \n",
    "    DATASETS = {\n",
    "        \"test_data\": {\n",
    "                        'factory':'factory_test',\n",
    "                        'path_args':{\n",
    "                                        \"root\": \"validation_1_1\",\n",
    "                                    },\n",
    "                        'kwargs':{\n",
    "                                        \"pattern\": 'aimg*.png'\n",
    "                                }\n",
    "            \n",
    "        },\n",
    "        \"test_data_masks\": {\n",
    "            'factory':'factory_test_masks',\n",
    "            'path_args':{\n",
    "                    \"root\": \"validation_1_1\",\n",
    "            },\n",
    "            'kwargs':{\n",
    "                    \"pattern\": 'aimg*.png'\n",
    "            }\n",
    "        },\n",
    "        \"test_data_joined\": {\n",
    "            'factory':'factory_test_joined',\n",
    "            'path_args':{\n",
    "                    \"root1\": \"validation_1_1\",\n",
    "                    \"root2\": \"validation_1_1\",\n",
    "            },\n",
    "            'kwargs':{\n",
    "                    \"pattern1\": 'aimg*.png',\n",
    "                    \"pattern2\": 'mask*.png'\n",
    "            }\n",
    "        }\n",
    "    }\n",
    "    \n",
    "    @staticmethod\n",
    "    def get(name): return super(MyDatasetCatalog, MyDatasetCatalog).get(name)\n",
    "    \n",
    "    @staticmethod\n",
    "    def create_factory_dict(data_dir, dataset_attrs):\n",
    "        factory = dataset_attrs['factory']\n",
    "        allowed_facts = [v['factory']  for v in MyDatasetCatalog.DATASETS.values()]\n",
    "        if factory not in allowed_facts: raise RuntimeError(f' Uknnown factory type: {factory}' )\n",
    "        \n",
    "        path_args = {k:os.path.join(data_dir, v) for k, v in dataset_attrs['path_args'].items()}\n",
    "        return dict(factory=factory, args={**path_args, **dataset_attrs['kwargs']})"
   ]
  },
  {
   "cell_type": "code",
   "execution_count": 379,
   "metadata": {
    "execution": {
     "iopub.execute_input": "2020-08-21T11:15:53.295996Z",
     "iopub.status.busy": "2020-08-21T11:15:53.295812Z",
     "iopub.status.idle": "2020-08-21T11:15:53.299402Z",
     "shell.execute_reply": "2020-08-21T11:15:53.298998Z",
     "shell.execute_reply.started": "2020-08-21T11:15:53.295967Z"
    }
   },
   "outputs": [
    {
     "data": {
      "text/plain": [
       "{'factory': 'factory_test_masks',\n",
       " 'args': {'root': '/home/sokolov/work/tmp/shallow_proto/test_data/validation_1_1',\n",
       "  'pattern': 'aimg*.png'}}"
      ]
     },
     "execution_count": 379,
     "metadata": {},
     "output_type": "execute_result"
    }
   ],
   "source": [
    "test_fact_args = MyDatasetCatalog.get(name='test_data_masks')\n",
    "test_fact_args"
   ]
  },
  {
   "cell_type": "code",
   "execution_count": 380,
   "metadata": {
    "execution": {
     "iopub.execute_input": "2020-08-21T11:15:53.491351Z",
     "iopub.status.busy": "2020-08-21T11:15:53.491119Z",
     "iopub.status.idle": "2020-08-21T11:15:53.496224Z",
     "shell.execute_reply": "2020-08-21T11:15:53.495822Z",
     "shell.execute_reply.started": "2020-08-21T11:15:53.491320Z"
    }
   },
   "outputs": [
    {
     "data": {
      "text/plain": [
       "{'factory': 'factory_test_joined',\n",
       " 'args': {'root1': '/home/sokolov/work/tmp/shallow_proto/test_data/validation_1_1',\n",
       "  'root2': '/home/sokolov/work/tmp/shallow_proto/test_data/validation_1_1',\n",
       "  'pattern1': 'aimg*.png',\n",
       "  'pattern2': 'mask*.png'}}"
      ]
     },
     "execution_count": 380,
     "metadata": {},
     "output_type": "execute_result"
    }
   ],
   "source": [
    "test_fact_args = MyDatasetCatalog.get(name='test_data_joined')\n",
    "test_fact_args"
   ]
  },
  {
   "cell_type": "code",
   "execution_count": null,
   "metadata": {},
   "outputs": [],
   "source": []
  },
  {
   "cell_type": "markdown",
   "metadata": {},
   "source": [
    "## builders"
   ]
  },
  {
   "cell_type": "code",
   "execution_count": 366,
   "metadata": {
    "execution": {
     "iopub.execute_input": "2020-08-21T11:14:25.715863Z",
     "iopub.status.busy": "2020-08-21T11:14:25.715603Z",
     "iopub.status.idle": "2020-08-21T11:14:25.718751Z",
     "shell.execute_reply": "2020-08-21T11:14:25.718245Z",
     "shell.execute_reply.started": "2020-08-21T11:14:25.715829Z"
    }
   },
   "outputs": [],
   "source": [
    "from nb_configer import cfg"
   ]
  },
  {
   "cell_type": "code",
   "execution_count": 409,
   "metadata": {
    "execution": {
     "iopub.execute_input": "2020-08-21T11:23:22.549056Z",
     "iopub.status.busy": "2020-08-21T11:23:22.548783Z",
     "iopub.status.idle": "2020-08-21T11:23:22.560679Z",
     "shell.execute_reply": "2020-08-21T11:23:22.560216Z",
     "shell.execute_reply.started": "2020-08-21T11:23:22.549020Z"
    }
   },
   "outputs": [],
   "source": [
    "yaml_str = '''\n",
    "    DATA:\n",
    "      TRAIN:\n",
    "        DATASETS: ['test_data_joined', 'test_data_joined']\n",
    "        GPU_PRELOAD: False\n",
    "        PRELOAD: False\n",
    "        CACHE: True\n",
    "      VALID:\n",
    "        DATASETS: ['test_data']\n",
    "      TEST:\n",
    "        DATASETS: ['test_data']\n",
    "\n",
    "    TRANSFORMERS:\n",
    "      TRAIN:\n",
    "        AUG: 'test'\n",
    "      VALID:\n",
    "        AUG: 'val'\n",
    "      TEST:\n",
    "        AUG: 'test'\n",
    "\n",
    "      CROP_SIZE: 64\n",
    "\n",
    "    TRAIN:\n",
    "      NUM_WORKERS: 0\n",
    "      BATCH_SIZE: 128\n",
    "\n",
    "    VALID:\n",
    "      NUM_WORKERS: 4\n",
    "      BATCH_SIZE: 1\n",
    "    '''\n",
    "yd = yaml.safe_load(yaml_str)\n",
    "with open('/tmp/t.yaml', 'w') as f:\n",
    "    yaml.safe_dump(yd, f)\n",
    "cfg.merge_from_file('/tmp/t.yaml')"
   ]
  },
  {
   "cell_type": "code",
   "execution_count": 410,
   "metadata": {
    "execution": {
     "iopub.execute_input": "2020-08-21T11:23:23.650027Z",
     "iopub.status.busy": "2020-08-21T11:23:23.649757Z",
     "iopub.status.idle": "2020-08-21T11:23:23.654375Z",
     "shell.execute_reply": "2020-08-21T11:23:23.653911Z",
     "shell.execute_reply.started": "2020-08-21T11:23:23.649991Z"
    }
   },
   "outputs": [
    {
     "name": "stdout",
     "output_type": "stream",
     "text": [
      "{'TEST': {'CACHE': False,\n",
      "          'DATASETS': ('test_data',),\n",
      "          'GPU_PRELOAD': False,\n",
      "          'MULTIPLY': 1,\n",
      "          'PRELOAD': False},\n",
      " 'TRAIN': {'CACHE': True,\n",
      "           'DATASETS': ('test_data_joined', 'test_data_joined'),\n",
      "           'GPU_PRELOAD': False,\n",
      "           'MULTIPLY': 1,\n",
      "           'PRELOAD': False},\n",
      " 'VALID': {'CACHE': False,\n",
      "           'DATASETS': ('test_data',),\n",
      "           'GPU_PRELOAD': False,\n",
      "           'MULTIPLY': 1,\n",
      "           'PRELOAD': False}}\n"
     ]
    }
   ],
   "source": [
    "pprint(cfg.DATA)"
   ]
  },
  {
   "cell_type": "code",
   "execution_count": 411,
   "metadata": {
    "execution": {
     "iopub.execute_input": "2020-08-21T11:23:29.554126Z",
     "iopub.status.busy": "2020-08-21T11:23:29.553839Z",
     "iopub.status.idle": "2020-08-21T11:23:29.557210Z",
     "shell.execute_reply": "2020-08-21T11:23:29.556746Z",
     "shell.execute_reply.started": "2020-08-21T11:23:29.554092Z"
    }
   },
   "outputs": [],
   "source": [
    "def test_trans_get(aug_type, size):\n",
    "    return albu.Compose([albu.CenterCrop(size, size)])"
   ]
  },
  {
   "cell_type": "code",
   "execution_count": 412,
   "metadata": {
    "execution": {
     "iopub.execute_input": "2020-08-21T11:23:29.742369Z",
     "iopub.status.busy": "2020-08-21T11:23:29.742133Z",
     "iopub.status.idle": "2020-08-21T11:23:29.745812Z",
     "shell.execute_reply": "2020-08-21T11:23:29.745400Z",
     "shell.execute_reply.started": "2020-08-21T11:23:29.742338Z"
    }
   },
   "outputs": [],
   "source": [
    "class PairImageDataset(PairDataset):\n",
    "    def __init__(self, root1, pattern1, root2, pattern2):\n",
    "        self.ds1 = ImageDataset(root1, pattern1)\n",
    "        self.ds2 = ImageDataset(root2, pattern2)\n",
    "        assert len(self.ds1) == len(self.ds2)"
   ]
  },
  {
   "cell_type": "code",
   "execution_count": 413,
   "metadata": {
    "execution": {
     "iopub.execute_input": "2020-08-21T11:23:30.028008Z",
     "iopub.status.busy": "2020-08-21T11:23:30.027756Z",
     "iopub.status.idle": "2020-08-21T11:23:30.031769Z",
     "shell.execute_reply": "2020-08-21T11:23:30.031285Z",
     "shell.execute_reply.started": "2020-08-21T11:23:30.027976Z"
    }
   },
   "outputs": [],
   "source": [
    "dataset_factories = {'factory_test': ImageDataset, 'factory_test_joined': PairImageDataset}\n",
    "transform_factory = {\n",
    "    'TRAIN':{'factory':partial(TransformDataset, is_masked=True), 'transform_getter':test_trans_get},\n",
    "    'TEST':{'factory':TransformDataset, 'transform_getter':test_trans_get},\n",
    "    'VALID':{'factory':TransformDataset, 'transform_getter':test_trans_get},\n",
    "}\n",
    "extend_factories = {\n",
    "    'GPU_PRELOAD':GpuPreloadingDataset,\n",
    "    'PRELOAD':partial(PreloadingDataset, num_proc=8),\n",
    "    'CACHE':CachingDataset,\n",
    "}"
   ]
  },
  {
   "cell_type": "code",
   "execution_count": 414,
   "metadata": {
    "execution": {
     "iopub.execute_input": "2020-08-21T11:23:30.985551Z",
     "iopub.status.busy": "2020-08-21T11:23:30.985309Z",
     "iopub.status.idle": "2020-08-21T11:23:30.989109Z",
     "shell.execute_reply": "2020-08-21T11:23:30.987989Z",
     "shell.execute_reply.started": "2020-08-21T11:23:30.985526Z"
    }
   },
   "outputs": [],
   "source": [
    "builder = DatasetBuilder(cfg, MyDatasetCatalog, dataset_factories=dataset_factories, transform_factory=transform_factory)"
   ]
  },
  {
   "cell_type": "code",
   "execution_count": 415,
   "metadata": {
    "execution": {
     "iopub.execute_input": "2020-08-21T11:23:31.184374Z",
     "iopub.status.busy": "2020-08-21T11:23:31.184121Z",
     "iopub.status.idle": "2020-08-21T11:23:32.233749Z",
     "shell.execute_reply": "2020-08-21T11:23:32.233249Z",
     "shell.execute_reply.started": "2020-08-21T11:23:31.184340Z"
    }
   },
   "outputs": [
    {
     "data": {
      "text/plain": [
       "{'TRAIN': <__main__.TransformDataset at 0x7f95a3cedac8>,\n",
       " 'VALID': <__main__.TransformDataset at 0x7f95a3ced8d0>,\n",
       " 'TEST': <__main__.TransformDataset at 0x7f95a3ced9b0>}"
      ]
     },
     "execution_count": 415,
     "metadata": {},
     "output_type": "execute_result"
    }
   ],
   "source": [
    "datasets = builder.build_datasets()\n",
    "datasets"
   ]
  },
  {
   "cell_type": "code",
   "execution_count": 416,
   "metadata": {
    "execution": {
     "iopub.execute_input": "2020-08-21T11:23:32.859890Z",
     "iopub.status.busy": "2020-08-21T11:23:32.859625Z",
     "iopub.status.idle": "2020-08-21T11:23:32.862488Z",
     "shell.execute_reply": "2020-08-21T11:23:32.862073Z",
     "shell.execute_reply.started": "2020-08-21T11:23:32.859856Z"
    }
   },
   "outputs": [],
   "source": [
    "tds = datasets['TRAIN']"
   ]
  },
  {
   "cell_type": "code",
   "execution_count": 417,
   "metadata": {
    "execution": {
     "iopub.execute_input": "2020-08-21T11:23:33.043559Z",
     "iopub.status.busy": "2020-08-21T11:23:33.043320Z",
     "iopub.status.idle": "2020-08-21T11:23:33.715550Z",
     "shell.execute_reply": "2020-08-21T11:23:33.715062Z",
     "shell.execute_reply.started": "2020-08-21T11:23:33.043527Z"
    }
   },
   "outputs": [
    {
     "data": {
      "text/plain": [
       "((64, 64, 3), (64, 64, 3))"
      ]
     },
     "execution_count": 417,
     "metadata": {},
     "output_type": "execute_result"
    }
   ],
   "source": [
    "len(tds)\n",
    "tds[0][0].shape, tds[0][1].shape"
   ]
  },
  {
   "cell_type": "code",
   "execution_count": 418,
   "metadata": {
    "execution": {
     "iopub.execute_input": "2020-08-21T11:23:34.242775Z",
     "iopub.status.busy": "2020-08-21T11:23:34.242512Z",
     "iopub.status.idle": "2020-08-21T11:23:37.748867Z",
     "shell.execute_reply": "2020-08-21T11:23:37.747845Z",
     "shell.execute_reply.started": "2020-08-21T11:23:34.242742Z"
    }
   },
   "outputs": [
    {
     "name": "stdout",
     "output_type": "stream",
     "text": [
      "350 ms ± 7.35 ms per loop (mean ± std. dev. of 2 runs, 5 loops each)\n"
     ]
    }
   ],
   "source": [
    "%%timeit -r 2 -n 5\n",
    "tds[17]"
   ]
  },
  {
   "cell_type": "code",
   "execution_count": 421,
   "metadata": {
    "execution": {
     "iopub.execute_input": "2020-08-21T11:34:49.728188Z",
     "iopub.status.busy": "2020-08-21T11:34:49.727898Z",
     "iopub.status.idle": "2020-08-21T11:34:49.732823Z",
     "shell.execute_reply": "2020-08-21T11:34:49.732172Z",
     "shell.execute_reply.started": "2020-08-21T11:34:49.728150Z"
    }
   },
   "outputs": [],
   "source": []
  },
  {
   "cell_type": "code",
   "execution_count": 422,
   "metadata": {
    "execution": {
     "iopub.execute_input": "2020-08-21T11:35:05.747647Z",
     "iopub.status.busy": "2020-08-21T11:35:05.747361Z",
     "iopub.status.idle": "2020-08-21T11:35:05.753701Z",
     "shell.execute_reply": "2020-08-21T11:35:05.750746Z",
     "shell.execute_reply.started": "2020-08-21T11:35:05.747609Z"
    }
   },
   "outputs": [],
   "source": [
    "datasets = extend_all_datasets(datasets, cfg, extend_factories)"
   ]
  },
  {
   "cell_type": "code",
   "execution_count": 423,
   "metadata": {
    "execution": {
     "iopub.execute_input": "2020-08-21T11:35:14.584124Z",
     "iopub.status.busy": "2020-08-21T11:35:14.583854Z",
     "iopub.status.idle": "2020-08-21T11:35:14.936635Z",
     "shell.execute_reply": "2020-08-21T11:35:14.935974Z",
     "shell.execute_reply.started": "2020-08-21T11:35:14.584091Z"
    }
   },
   "outputs": [
    {
     "name": "stdout",
     "output_type": "stream",
     "text": [
      "The slowest run took 351604.19 times longer than the fastest. This could mean that an intermediate result is being cached.\n",
      "34.7 ms ± 34.7 ms per loop (mean ± std. dev. of 2 runs, 5 loops each)\n"
     ]
    }
   ],
   "source": [
    "%%timeit -r 2 -n 5\n",
    "datasets['TRAIN'][17]"
   ]
  },
  {
   "cell_type": "code",
   "execution_count": null,
   "metadata": {},
   "outputs": [],
   "source": []
  },
  {
   "cell_type": "code",
   "execution_count": null,
   "metadata": {},
   "outputs": [],
   "source": []
  },
  {
   "cell_type": "code",
   "execution_count": null,
   "metadata": {},
   "outputs": [],
   "source": []
  },
  {
   "cell_type": "code",
   "execution_count": null,
   "metadata": {},
   "outputs": [],
   "source": []
  },
  {
   "cell_type": "code",
   "execution_count": null,
   "metadata": {},
   "outputs": [],
   "source": []
  },
  {
   "cell_type": "code",
   "execution_count": null,
   "metadata": {},
   "outputs": [],
   "source": []
  },
  {
   "cell_type": "code",
   "execution_count": null,
   "metadata": {},
   "outputs": [],
   "source": []
  },
  {
   "cell_type": "code",
   "execution_count": null,
   "metadata": {},
   "outputs": [],
   "source": []
  }
 ],
 "metadata": {
  "kernelspec": {
   "display_name": "Python 3",
   "language": "python",
   "name": "python3"
  },
  "language_info": {
   "codemirror_mode": {
    "name": "ipython",
    "version": 3
   },
   "file_extension": ".py",
   "mimetype": "text/x-python",
   "name": "python",
   "nbconvert_exporter": "python",
   "pygments_lexer": "ipython3",
   "version": "3.6.9"
  }
 },
 "nbformat": 4,
 "nbformat_minor": 4
}
