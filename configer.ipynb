{
 "cells": [
  {
   "cell_type": "code",
   "execution_count": 1,
   "metadata": {
    "execution": {
     "iopub.execute_input": "2020-08-21T09:50:51.981953Z",
     "iopub.status.busy": "2020-08-21T09:50:51.981661Z",
     "iopub.status.idle": "2020-08-21T09:50:51.984832Z",
     "shell.execute_reply": "2020-08-21T09:50:51.984311Z",
     "shell.execute_reply.started": "2020-08-21T09:50:51.981916Z"
    }
   },
   "outputs": [],
   "source": [
    "import sys\n",
    "sys.path.append('src')"
   ]
  },
  {
   "cell_type": "markdown",
   "metadata": {},
   "source": [
    "# Imports"
   ]
  },
  {
   "cell_type": "code",
   "execution_count": 2,
   "metadata": {
    "execution": {
     "iopub.execute_input": "2020-08-21T09:50:58.319729Z",
     "iopub.status.busy": "2020-08-21T09:50:58.319443Z",
     "iopub.status.idle": "2020-08-21T09:50:58.323794Z",
     "shell.execute_reply": "2020-08-21T09:50:58.323227Z",
     "shell.execute_reply.started": "2020-08-21T09:50:58.319691Z"
    }
   },
   "outputs": [],
   "source": [
    "#export\n",
    "import os\n",
    "from pathlib import Path\n",
    "\n",
    "from yacs.config import CfgNode as CN"
   ]
  },
  {
   "cell_type": "markdown",
   "metadata": {},
   "source": [
    "# Code"
   ]
  },
  {
   "cell_type": "code",
   "execution_count": null,
   "metadata": {},
   "outputs": [],
   "source": [
    "#export\n",
    "_C = CN()\n",
    "\n",
    "_C.OUTPUTS = ''\n",
    "_C.INPUTS = ''"
   ]
  },
  {
   "cell_type": "markdown",
   "metadata": {},
   "source": [
    "## Data"
   ]
  },
  {
   "cell_type": "code",
   "execution_count": null,
   "metadata": {},
   "outputs": [],
   "source": [
    "#export\n",
    "_C.DATA = CN()\n",
    "_C.DATA.TRAIN = CN()\n",
    "_C.DATA.TRAIN.DATASETS = (0,)\n",
    "_C.DATA.TRAIN.GPU_PRELOAD = False\n",
    "_C.DATA.TRAIN.PRELOAD = False\n",
    "_C.DATA.TRAIN.CACHE = False\n",
    "_C.DATA.TRAIN.MULTIPLY = 1\n",
    "\n",
    "_C.DATA.VALID = CN()\n",
    "_C.DATA.VALID.DATASETS = (0,)\n",
    "_C.DATA.VALID.PRELOAD = False\n",
    "_C.DATA.VALID.GPU_PRELOAD = False\n",
    "_C.DATA.VALID.CACHE = False\n",
    "_C.DATA.VALID.MULTIPLY = 1\n",
    "\n",
    "_C.DATA.TEST = CN()\n",
    "_C.DATA.TEST.DATASETS = (0,)\n",
    "_C.DATA.TEST.PRELOAD = False\n",
    "_C.DATA.TEST.GPU_PRELOAD = False\n",
    "_C.DATA.TEST.CACHE = False\n",
    "_C.DATA.TEST.MULTIPLY = 1"
   ]
  },
  {
   "cell_type": "markdown",
   "metadata": {},
   "source": [
    "## Transformers"
   ]
  },
  {
   "cell_type": "code",
   "execution_count": null,
   "metadata": {
    "execution": {
     "iopub.execute_input": "2020-08-21T09:54:12.415565Z",
     "iopub.status.busy": "2020-08-21T09:54:12.415247Z",
     "iopub.status.idle": "2020-08-21T09:54:12.521855Z",
     "shell.execute_reply": "2020-08-21T09:54:12.521097Z",
     "shell.execute_reply.started": "2020-08-21T09:54:12.415525Z"
    }
   },
   "outputs": [],
   "source": [
    "#export\n",
    "_C.TRANSFORMERS = CN()\n",
    "_C.TRANSFORMERS.TRAIN = CN()\n",
    "_C.TRANSFORMERS.TRAIN.AUG=''\n",
    "\n",
    "_C.TRANSFORMERS.VALID = CN()\n",
    "_C.TRANSFORMERS.VALID.AUG=''\n",
    "\n",
    "_C.TRANSFORMERS.TEST = CN()\n",
    "_C.TRANSFORMERS.TEST.AUG=''\n",
    "\n",
    "_C.TRANSFORMERS.CROP_SIZE = -1"
   ]
  },
  {
   "cell_type": "markdown",
   "metadata": {},
   "source": [
    "## Model"
   ]
  },
  {
   "cell_type": "code",
   "execution_count": null,
   "metadata": {},
   "outputs": [],
   "source": [
    "#export\n",
    "_C.MODEL = CN()\n"
   ]
  },
  {
   "cell_type": "markdown",
   "metadata": {},
   "source": [
    "## Train loop"
   ]
  },
  {
   "cell_type": "code",
   "execution_count": null,
   "metadata": {},
   "outputs": [],
   "source": [
    "#export\n",
    "_C.TRAIN = CN()\n",
    "_C.TRAIN.GPUS = (0,)\n",
    "_C.TRAIN.NUM_WORKERS = 0\n",
    "_C.TRAIN.AMP_LEVEL = ''\n",
    "\n",
    "_C.TRAIN.SAVE_STEP = 0\n",
    "_C.TRAIN.SCALAR_STEP = 0\n",
    "_C.TRAIN.TB_STEP = 0\n",
    "\n",
    "_C.TRAIN.BATCH_SIZE = 0\n",
    "_C.TRAIN.EPOCH_COUNT = 0\n",
    "_C.TRAIN.EPOCH_DECAY_STEP = 0\n",
    "_C.TRAIN.LR_DECAY = 0.0\n"
   ]
  },
  {
   "cell_type": "markdown",
   "metadata": {
    "execution": {
     "iopub.execute_input": "2020-08-21T09:53:33.300444Z",
     "iopub.status.busy": "2020-08-21T09:53:33.300181Z",
     "iopub.status.idle": "2020-08-21T09:53:33.303163Z",
     "shell.execute_reply": "2020-08-21T09:53:33.302586Z",
     "shell.execute_reply.started": "2020-08-21T09:53:33.300407Z"
    }
   },
   "source": [
    "## valid"
   ]
  },
  {
   "cell_type": "code",
   "execution_count": null,
   "metadata": {},
   "outputs": [],
   "source": [
    "#export\n",
    "_C.VALID = CN()\n",
    "_C.VALID.NUM_WORKERS = 0\n",
    "_C.VALID.BATCH_SIZE = 0"
   ]
  },
  {
   "cell_type": "markdown",
   "metadata": {
    "execution": {
     "iopub.execute_input": "2020-08-21T09:53:58.948891Z",
     "iopub.status.busy": "2020-08-21T09:53:58.948625Z",
     "iopub.status.idle": "2020-08-21T09:53:58.951408Z",
     "shell.execute_reply": "2020-08-21T09:53:58.950939Z",
     "shell.execute_reply.started": "2020-08-21T09:53:58.948858Z"
    }
   },
   "source": [
    "## test"
   ]
  },
  {
   "cell_type": "code",
   "execution_count": null,
   "metadata": {},
   "outputs": [],
   "source": [
    "#export\n",
    "_C.TEST = CN()\n",
    "_C.TEST.NUM_WORKERS = 0\n",
    "_C.TEST.BATCH_SIZE = 0"
   ]
  },
  {
   "cell_type": "markdown",
   "metadata": {},
   "source": [
    "## parallel"
   ]
  },
  {
   "cell_type": "code",
   "execution_count": null,
   "metadata": {},
   "outputs": [],
   "source": [
    "#export\n",
    "_C.PARALLEL = CN()\n",
    "_C.PARALLEL.DDP = False\n",
    "_C.PARALLEL.LOCAL_RANK = 0\n",
    "_C.PARALLEL.WORLD_SIZE = 1"
   ]
  },
  {
   "cell_type": "markdown",
   "metadata": {},
   "source": [
    "## runner"
   ]
  },
  {
   "cell_type": "code",
   "execution_count": null,
   "metadata": {},
   "outputs": [],
   "source": [
    "#export\n",
    "cfg = _C\n",
    "        \n",
    "def cfg_init(path, aux_path='/mnt/configs', prefix='config_',freeze=True):\n",
    "    cfg.merge_from_file(path)\n",
    "    \n",
    "    aux_path = Path(aux_path) \n",
    "    if aux_path.exists():\n",
    "        aux_cfgs = os.listdir(aux_path)\n",
    "\n",
    "        if aux_cfgs:\n",
    "            for aux_cfg in aux_cfgs:\n",
    "                if aux_cfg.startswith('config_'):\n",
    "                    p = aux_path/aux_cfg\n",
    "                    cfg.merge_from_file(p)\n",
    "\n",
    "    if freeze: cfg.freeze()\n",
    "        \n",
    "# def get_cfg_defaults():\n",
    "#     \"\"\"Get a yacs CfgNode object with default values for my_project.\"\"\"\n",
    "#     # Return a clone so that the defaults will not be altered\n",
    "#     # This is for the \"local variable\" use pattern\n",
    "#     return _C.clone()"
   ]
  },
  {
   "cell_type": "code",
   "execution_count": null,
   "metadata": {},
   "outputs": [],
   "source": []
  },
  {
   "cell_type": "code",
   "execution_count": 11,
   "metadata": {
    "execution": {
     "iopub.execute_input": "2020-08-21T09:57:13.921409Z",
     "iopub.status.busy": "2020-08-21T09:57:13.921153Z",
     "iopub.status.idle": "2020-08-21T09:57:13.924472Z",
     "shell.execute_reply": "2020-08-21T09:57:13.923442Z",
     "shell.execute_reply.started": "2020-08-21T09:57:13.921376Z"
    }
   },
   "outputs": [],
   "source": [
    "t = Path()"
   ]
  },
  {
   "cell_type": "code",
   "execution_count": 16,
   "metadata": {
    "execution": {
     "iopub.execute_input": "2020-08-21T09:57:39.522107Z",
     "iopub.status.busy": "2020-08-21T09:57:39.521826Z",
     "iopub.status.idle": "2020-08-21T09:57:39.526528Z",
     "shell.execute_reply": "2020-08-21T09:57:39.526031Z",
     "shell.execute_reply.started": "2020-08-21T09:57:39.522072Z"
    }
   },
   "outputs": [
    {
     "data": {
      "text/plain": [
       "[PosixPath('utils.ipynb'),\n",
       " PosixPath('configer.ipynb'),\n",
       " PosixPath('test_data'),\n",
       " PosixPath('.ipynb_checkpoints'),\n",
       " PosixPath('learner.ipynb'),\n",
       " PosixPath('callbacks.ipynb'),\n",
       " PosixPath('.entr'),\n",
       " PosixPath('extra'),\n",
       " PosixPath('__init__.py'),\n",
       " PosixPath('schedulers.ipynb'),\n",
       " PosixPath('src'),\n",
       " PosixPath('data.ipynb')]"
      ]
     },
     "execution_count": 16,
     "metadata": {},
     "output_type": "execute_result"
    }
   ],
   "source": [
    "list(t.glob('*'))"
   ]
  },
  {
   "cell_type": "code",
   "execution_count": null,
   "metadata": {},
   "outputs": [],
   "source": []
  },
  {
   "cell_type": "code",
   "execution_count": null,
   "metadata": {},
   "outputs": [],
   "source": []
  },
  {
   "cell_type": "code",
   "execution_count": null,
   "metadata": {},
   "outputs": [],
   "source": []
  },
  {
   "cell_type": "code",
   "execution_count": null,
   "metadata": {},
   "outputs": [],
   "source": []
  },
  {
   "cell_type": "code",
   "execution_count": null,
   "metadata": {},
   "outputs": [],
   "source": []
  },
  {
   "cell_type": "code",
   "execution_count": null,
   "metadata": {},
   "outputs": [],
   "source": []
  },
  {
   "cell_type": "code",
   "execution_count": null,
   "metadata": {},
   "outputs": [],
   "source": []
  },
  {
   "cell_type": "code",
   "execution_count": null,
   "metadata": {},
   "outputs": [],
   "source": []
  }
 ],
 "metadata": {
  "kernelspec": {
   "display_name": "Python 3",
   "language": "python",
   "name": "python3"
  },
  "language_info": {
   "codemirror_mode": {
    "name": "ipython",
    "version": 3
   },
   "file_extension": ".py",
   "mimetype": "text/x-python",
   "name": "python",
   "nbconvert_exporter": "python",
   "pygments_lexer": "ipython3",
   "version": "3.6.9"
  }
 },
 "nbformat": 4,
 "nbformat_minor": 4
}
