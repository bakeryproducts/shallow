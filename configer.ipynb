{
 "cells": [
  {
   "cell_type": "code",
   "execution_count": null,
   "metadata": {},
   "outputs": [],
   "source": [
    "import sys\n",
    "sys.path.append('src')"
   ]
  },
  {
   "cell_type": "markdown",
   "metadata": {},
   "source": [
    "# Imports"
   ]
  },
  {
   "cell_type": "code",
   "execution_count": null,
   "metadata": {},
   "outputs": [],
   "source": [
    "#export\n",
    "import os\n",
    "from pathlib import Path\n",
    "\n",
    "from yacs.config import CfgNode as CN"
   ]
  },
  {
   "cell_type": "markdown",
   "metadata": {},
   "source": [
    "# Code"
   ]
  },
  {
   "cell_type": "code",
   "execution_count": null,
   "metadata": {},
   "outputs": [],
   "source": [
    "#export\n",
    "_C = CN()\n",
    "\n",
    "_C.OUTPUTS = ''\n",
    "_C.INPUTS = ''"
   ]
  },
  {
   "cell_type": "markdown",
   "metadata": {},
   "source": [
    "## Data"
   ]
  },
  {
   "cell_type": "code",
   "execution_count": null,
   "metadata": {},
   "outputs": [],
   "source": [
    "#export\n",
    "_C.DATA = CN()\n",
    "_C.DATA.TRAIN = CN()\n",
    "_C.DATA.TRAIN.DATASETS = (0,)\n",
    "_C.DATA.TRAIN.GPU_PRELOAD = False\n",
    "_C.DATA.TRAIN.PRELOAD = False\n",
    "_C.DATA.TRAIN.CACHE = False\n",
    "_C.DATA.TRAIN.MULTIPLY = 1\n",
    "\n",
    "_C.DATA.VALID = CN()\n",
    "_C.DATA.VALID.DATASETS = (0,)\n",
    "_C.DATA.VALID.PRELOAD = False\n",
    "_C.DATA.VALID.GPU_PRELOAD = False\n",
    "_C.DATA.VALID.CACHE = False\n",
    "_C.DATA.VALID.MULTIPLY = 1\n",
    "\n",
    "_C.DATA.TEST = CN()\n",
    "_C.DATA.TEST.DATASETS = (0,)\n",
    "_C.DATA.TEST.PRELOAD = False\n",
    "_C.DATA.TEST.GPU_PRELOAD = False\n",
    "_C.DATA.TEST.CACHE = False\n",
    "_C.DATA.TEST.MULTIPLY = 1"
   ]
  },
  {
   "cell_type": "markdown",
   "metadata": {},
   "source": [
    "## Transformers"
   ]
  },
  {
   "cell_type": "code",
   "execution_count": null,
   "metadata": {},
   "outputs": [],
   "source": [
    "#export\n",
    "_C.TRANSFORMERS = CN()\n",
    "_C.TRANSFORMERS.TRAIN = CN()\n",
    "_C.TRANSFORMERS.TRAIN.AUG=''\n",
    "\n",
    "_C.TRANSFORMERS.VALID = CN()\n",
    "_C.TRANSFORMERS.VALID.AUG=''\n",
    "\n",
    "_C.TRANSFORMERS.TEST = CN()\n",
    "_C.TRANSFORMERS.TEST.AUG=''\n",
    "\n",
    "_C.TRANSFORMERS.CROP = -1,\n",
    "_C.TRANSFORMERS.RESIZE = -1,\n"
   ]
  },
  {
   "cell_type": "markdown",
   "metadata": {},
   "source": [
    "## Model"
   ]
  },
  {
   "cell_type": "code",
   "execution_count": null,
   "metadata": {},
   "outputs": [],
   "source": [
    "#export\n",
    "_C.MODEL = CN()\n"
   ]
  },
  {
   "cell_type": "markdown",
   "metadata": {},
   "source": [
    "## Train loop"
   ]
  },
  {
   "cell_type": "code",
   "execution_count": null,
   "metadata": {},
   "outputs": [],
   "source": [
    "#export\n",
    "_C.TRAIN = CN()\n",
    "_C.TRAIN.GPUS = (0,)\n",
    "_C.TRAIN.NUM_WORKERS = 0\n",
    "_C.TRAIN.AMP_LEVEL = ''\n",
    "\n",
    "_C.TRAIN.SAVE_STEP = 0\n",
    "_C.TRAIN.SCALAR_STEP = 0\n",
    "_C.TRAIN.TB_STEP = 0\n",
    "\n",
    "_C.TRAIN.BATCH_SIZE = 0\n",
    "_C.TRAIN.EPOCH_COUNT = 0\n",
    "_C.TRAIN.EPOCH_DECAY_STEP = 0\n",
    "_C.TRAIN.LR_DECAY = 0.0\n"
   ]
  },
  {
   "cell_type": "markdown",
   "metadata": {},
   "source": [
    "## valid"
   ]
  },
  {
   "cell_type": "code",
   "execution_count": null,
   "metadata": {},
   "outputs": [],
   "source": [
    "#export\n",
    "_C.VALID = CN()\n",
    "_C.VALID.NUM_WORKERS = 0\n",
    "_C.VALID.BATCH_SIZE = 0"
   ]
  },
  {
   "cell_type": "markdown",
   "metadata": {},
   "source": [
    "## test"
   ]
  },
  {
   "cell_type": "code",
   "execution_count": null,
   "metadata": {},
   "outputs": [],
   "source": [
    "#export\n",
    "_C.TEST = CN()\n",
    "_C.TEST.NUM_WORKERS = 0\n",
    "_C.TEST.BATCH_SIZE = 0"
   ]
  },
  {
   "cell_type": "markdown",
   "metadata": {},
   "source": [
    "## parallel"
   ]
  },
  {
   "cell_type": "code",
   "execution_count": null,
   "metadata": {},
   "outputs": [],
   "source": [
    "#export\n",
    "_C.PARALLEL = CN()\n",
    "_C.PARALLEL.DDP = False\n",
    "_C.PARALLEL.LOCAL_RANK = 0\n",
    "_C.PARALLEL.WORLD_SIZE = 1"
   ]
  },
  {
   "cell_type": "markdown",
   "metadata": {},
   "source": [
    "## runner"
   ]
  },
  {
   "cell_type": "code",
   "execution_count": null,
   "metadata": {},
   "outputs": [],
   "source": [
    "#export\n",
    "cfg = _C\n",
    "        \n",
    "def cfg_init(path, aux_path='/mnt/configs', prefix='config_',freeze=True):\n",
    "    cfg.merge_from_file(path)\n",
    "    \n",
    "    aux_path = Path(aux_path) \n",
    "    if aux_path.exists():\n",
    "        aux_cfgs = os.listdir(aux_path)\n",
    "\n",
    "        if aux_cfgs:\n",
    "            for aux_cfg in aux_cfgs:\n",
    "                if aux_cfg.startswith('config_'):\n",
    "                    p = aux_path/aux_cfg\n",
    "                    cfg.merge_from_file(p)\n",
    "\n",
    "    if freeze: cfg.freeze()\n",
    "        \n",
    "# def get_cfg_defaults():\n",
    "#     \"\"\"Get a yacs CfgNode object with default values for my_project.\"\"\"\n",
    "#     # Return a clone so that the defaults will not be altered\n",
    "#     # This is for the \"local variable\" use pattern\n",
    "#     return _C.clone()"
   ]
  },
  {
   "cell_type": "code",
   "execution_count": null,
   "metadata": {},
   "outputs": [],
   "source": []
  },
  {
   "cell_type": "code",
   "execution_count": null,
   "metadata": {},
   "outputs": [],
   "source": [
    "t = Path()"
   ]
  },
  {
   "cell_type": "code",
   "execution_count": null,
   "metadata": {},
   "outputs": [],
   "source": [
    "list(t.glob('*'))"
   ]
  },
  {
   "cell_type": "code",
   "execution_count": null,
   "metadata": {},
   "outputs": [],
   "source": []
  },
  {
   "cell_type": "code",
   "execution_count": null,
   "metadata": {},
   "outputs": [],
   "source": []
  },
  {
   "cell_type": "code",
   "execution_count": null,
   "metadata": {},
   "outputs": [],
   "source": []
  },
  {
   "cell_type": "code",
   "execution_count": null,
   "metadata": {},
   "outputs": [],
   "source": []
  },
  {
   "cell_type": "code",
   "execution_count": null,
   "metadata": {},
   "outputs": [],
   "source": []
  },
  {
   "cell_type": "code",
   "execution_count": null,
   "metadata": {},
   "outputs": [],
   "source": []
  },
  {
   "cell_type": "code",
   "execution_count": null,
   "metadata": {},
   "outputs": [],
   "source": []
  },
  {
   "cell_type": "code",
   "execution_count": null,
   "metadata": {},
   "outputs": [],
   "source": []
  }
 ],
 "metadata": {
  "kernelspec": {
   "display_name": "Python 3",
   "language": "python",
   "name": "python3"
  },
  "language_info": {
   "codemirror_mode": {
    "name": "ipython",
    "version": 3
   },
   "file_extension": ".py",
   "mimetype": "text/x-python",
   "name": "python",
   "nbconvert_exporter": "python",
   "pygments_lexer": "ipython3",
   "version": "3.6.9"
  }
 },
 "nbformat": 4,
 "nbformat_minor": 4
}
