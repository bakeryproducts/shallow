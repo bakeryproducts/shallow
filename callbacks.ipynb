{
 "cells": [
  {
   "cell_type": "code",
   "execution_count": null,
   "metadata": {},
   "outputs": [],
   "source": [
    "%load_ext autoreload\n",
    "%autoreload 2\n",
    "%matplotlib inline"
   ]
  },
  {
   "cell_type": "code",
   "execution_count": null,
   "metadata": {},
   "outputs": [],
   "source": [
    "import sys\n",
    "#sys.path.append('shallow')"
   ]
  },
  {
   "cell_type": "markdown",
   "metadata": {},
   "source": [
    "# Imports"
   ]
  },
  {
   "cell_type": "code",
   "execution_count": null,
   "metadata": {},
   "outputs": [],
   "source": [
    "#export\n",
    "import time\n",
    "from functools import partial\n",
    "\n",
    "import torch\n",
    "from torch.utils.tensorboard import SummaryWriter\n",
    "\n",
    "from shallow import utils, meters\n",
    "#from utils import GetAttr"
   ]
  },
  {
   "cell_type": "markdown",
   "metadata": {},
   "source": [
    "# Code"
   ]
  },
  {
   "cell_type": "code",
   "execution_count": null,
   "metadata": {},
   "outputs": [],
   "source": [
    "#export \n",
    "class CancelFitException(Exception): pass\n",
    "\n",
    "class Callback(utils.GetAttr): \n",
    "    _default='learner'\n",
    "    def __init__(self, *args, **kwargs):\n",
    "        utils.store_attr(self, locals())\n",
    "    \n",
    "class ParamSchedulerCB(Callback):\n",
    "    def __init__(self, phase, pname, sched_func):\n",
    "        self.pname, self.sched_func = pname, sched_func\n",
    "        setattr(self, phase, self.set_param)\n",
    "        \n",
    "    def set_param(self):\n",
    "        setattr(self.learner, self.pname, self.sched_func(self.epoch/self.n_epochs))\n",
    "    \n",
    "class SetupLearnerCB(Callback):\n",
    "    def before_batch(self):\n",
    "        xb,yb = to_device(self.batch)\n",
    "        self.learner.batch = tfm_x(xb),yb\n",
    "\n",
    "    def before_fit(self): self.model.cuda()\n",
    "\n",
    "class TrackResultsCB(Callback):\n",
    "    def before_epoch(self): self.accs,self.losses,self.ns = [],[],[]\n",
    "        \n",
    "    def after_epoch(self):\n",
    "        n = sum(self.ns)\n",
    "        print(self.epoch, self.model.training,\n",
    "              sum(self.losses).item()/n, sum(self.accs).item()/n)\n",
    "        \n",
    "    def after_batch(self):\n",
    "        xb, yb = self.batch\n",
    "        acc = (self.preds.argmax(dim=1)==yb).float().sum()\n",
    "        self.accs.append(acc)\n",
    "        n = len(xb)\n",
    "        self.losses.append(self.loss*n)\n",
    "        self.ns.append(n)\n",
    "\n",
    "class LRFinderCB(Callback):\n",
    "    def before_fit(self):\n",
    "        self.losses,self.lrs = [],[]\n",
    "        self.learner.lr = 1e-6\n",
    "            \n",
    "    def before_batch(self):\n",
    "        if not self.model.training: return\n",
    "        self.learner.lr *= 1.2\n",
    "        print(self.lr)\n",
    "        \n",
    "    def after_batch(self):\n",
    "        if not self.model.training: return\n",
    "        if self.lr > 1 or torch.isnan(self.loss): raise CancelFitException\n",
    "        self.losses.append(self.loss.item())\n",
    "        self.lrs.append(self.lr)\n",
    "        \n",
    "        \n",
    "class TimerCB(Callback):\n",
    "    def __init__(self, Timer=None, logger=None):\n",
    "        self.logger = logger\n",
    "        self.perc=90\n",
    "        if Timer is None: Timer = meters.StopwatchMeter\n",
    "        self.batch_timer = Timer()\n",
    "        self.epoch_timer = Timer()\n",
    "    \n",
    "    def before_batch(self): self.batch_timer.start()\n",
    "    def before_epoch(self): self.epoch_timer.start()\n",
    "    def after_batch(self):  self.batch_timer.stop()\n",
    "\n",
    "    def after_epoch(self):\n",
    "        self.epoch_timer.stop()\n",
    "        bs, es = self.learner.dl.batch_size, len(self.learner.dl)\n",
    "        if self.logger is not None: self.logger.info(f'\\tEpoch {self.epoch}: {self.epoch_timer.last: .3f} s,'+\n",
    "                                                     f'{bs * es/self.epoch_timer.last: .3f} im/s; '+\n",
    "                                                     f'batch {self.batch_timer.avg: .3f} s'  \n",
    "                                                     )    \n",
    "        #if self.logger is not None: self.logger.info(f'\\t\\tBatch : ')\n",
    "        self.batch_timer.reset()\n",
    "    \n",
    "    def after_fit(self):\n",
    "        if self.logger is not None:\n",
    "            et = self.epoch_timer\n",
    "            em = et.avg\n",
    "            estd = ((et.p(self.perc) - em) + (em - et.p(1-self.perc))) / 2\n",
    "            self.logger.info(f'\\tEpoch average time: {em: .3f} +- {estd: .3f} s')\n",
    "        \n",
    "        \n",
    "class CheckpointCB(Callback):\n",
    "    def __init__(self, save_path, save_step=None):\n",
    "        utils.store_attr(self, locals())\n",
    "        self.pct_counter = None if isinstance(self.save_step, int) else self.save_step\n",
    "        \n",
    "    def after_epoch(self):\n",
    "        save = False\n",
    "        if self.epoch == self.n_epochs - 1: save=True\n",
    "        elif isinstance(self.save_step, int): save = self.save_step % self.epoch == 0 \n",
    "        else:\n",
    "            if self.epoch / self.n_epochs > self.pct_counter:\n",
    "                save = True\n",
    "                self.pct_counter += self.save_step\n",
    "        \n",
    "        if save:\n",
    "            torch.save({\n",
    "                                'epoch': self.epoch,\n",
    "                                'loss': self.loss,\n",
    "                                'model_state':self.model.state_dict(),\n",
    "                                'opt_state':self.opt.state_dict(),                    \n",
    "                            }, str(self.save_path / f'e{self.epoch}_t{self.n_epochs}_1e4l{int(1e4*self.loss)}.pth'))"
   ]
  },
  {
   "cell_type": "code",
   "execution_count": null,
   "metadata": {},
   "outputs": [],
   "source": [
    "#export\n",
    "class TensorBoardCB(TrackResultsCB):\n",
    "    def __init__(self, writer, logger=None, save_images=False, step=1, metrics={'totals':['total_loss', 'accuracy']}):\n",
    "        utils.store_attr(self, locals())\n",
    "        \n",
    "    def after_epoch(self):\n",
    "        n = sum(self.ns)\n",
    "        self.accuracy = sum(self.accs).item()/n\n",
    "        self.total_loss = sum(self.losses).item()/n\n",
    "        for category, metrics in self.metrics.items():\n",
    "            for metric in metrics:\n",
    "                #if self.logger is not None: self.logger.debug(f\"{category + '/' + metric, getattr(self, metric), self.epoch}\")\n",
    "                self.writer.add_scalar(category + '/' + metric, getattr(self, metric), self.epoch)\n",
    "        \n",
    "        if self.save_images and (self.epoch % self.step) == 0:\n",
    "            count = 4\n",
    "            images, masks, preds = self.batch[0], self.batch[1], self.preds\n",
    "            masks = masks.repeat(1,3,1,1)\n",
    "            preds = torch.sigmoid(preds.repeat(1,3,1,1))\n",
    "            images = images[:count]\n",
    "            masks = masks[:count]\n",
    "            preds = preds[:count]\n",
    "            \n",
    "            summary_image = torch.cat([255. * images.detach().cpu(), masks.detach().cpu(), preds.detach().cpu()], 0)\n",
    "            #self.logger.debug(f\"{summary_image.shape}, {images.shape}, {masks.shape}\")\n",
    "            grid = torchvision.utils.make_grid(summary_image, nrow=4, pad_value=1)\n",
    "            self.writer.add_image('images', grid, self.epoch)\n",
    "        \n",
    "        self.writer.flush()\n",
    "        \n",
    "#             if self.track_weight:\n",
    "#                 for k, v in self.learn.model.state_dict().items():\n",
    "#                     self.writer.add_histogram(k, v, kwargs['epoch']+self.delta_epochs)      \n",
    "            \n",
    "                  \n",
    "#     def on_backward_end(self, **kwargs):\n",
    "#         if self.track_grad and 'last_metrics' in kwargs and kwargs['last_metrics'][0] != None and kwargs['epoch'] > self.last_epoch_backward:\n",
    "#             self.last_epoch_backward = kwargs['epoch']\n",
    "#             keys = list(self.learn.model.state_dict().keys())\n",
    "#             indice = 0\n",
    "#             for i, param in enumerate(self.learn.model.parameters()):\n",
    "#                 grad = param.grad\n",
    "#                 if grad is not None:\n",
    "#                     self.writer.add_histogram('back'+'.'+keys[i], grad, kwargs['epoch']+self.delta_epochs)\n",
    "#                     i += 1"
   ]
  },
  {
   "cell_type": "code",
   "execution_count": null,
   "metadata": {},
   "outputs": [],
   "source": [
    "#export\n",
    "def append_stats(hook, mod, inp, outp, bins=100, vmin=0, vmax=0):\n",
    "    if not hasattr(hook,'stats'): hook.stats = ([],[],[])\n",
    "    means,stds,hists = hook.stats\n",
    "    means.append(outp.data.mean().cpu())\n",
    "    stds .append(outp.data.std().cpu())\n",
    "    hists.append(outp.data.cpu().histc(bins,vmin,vmax))\n",
    "    \n",
    "class Hook():\n",
    "    def __init__(self, m, f): self.hook = m.register_forward_hook(partial(f, self))\n",
    "    def remove(self): self.hook.remove()\n",
    "    def __del__(self): self.remove()\n",
    "        \n",
    "class Hooks(utils.ListContainer):\n",
    "    def __init__(self, ms, f): super().__init__([Hook(m, f) for m in ms])\n",
    "    def __enter__(self, *args): return self\n",
    "    def __exit__ (self, *args): self.remove()\n",
    "    def __del__(self): self.remove()\n",
    "\n",
    "    def __delitem__(self, i):\n",
    "        self[i].remove()\n",
    "        super().__delitem__(i)\n",
    "        \n",
    "    def remove(self):\n",
    "        for h in self: h.remove()"
   ]
  },
  {
   "cell_type": "code",
   "execution_count": null,
   "metadata": {},
   "outputs": [],
   "source": []
  },
  {
   "cell_type": "markdown",
   "metadata": {},
   "source": [
    "# Tests"
   ]
  },
  {
   "cell_type": "markdown",
   "metadata": {},
   "source": [
    "### Param sched"
   ]
  },
  {
   "cell_type": "code",
   "execution_count": null,
   "metadata": {},
   "outputs": [],
   "source": [
    "import torch\n",
    "import matplotlib.pyplot as plt\n",
    "\n",
    "from shallow import schedulers"
   ]
  },
  {
   "cell_type": "code",
   "execution_count": null,
   "metadata": {},
   "outputs": [],
   "source": [
    "class Learner:\n",
    "    def __init__(self, cbs):\n",
    "        self.cbs = cbs\n",
    "        self.lr = -1\n",
    "        self.epochs = 100\n",
    "        self.n_epochs = 13\n",
    "        for c in self.cbs: c.learner=self\n",
    "    \n",
    "    def t(self):\n",
    "        self('before_epoch')\n",
    "        \n",
    "    def tt(self):\n",
    "        self('bla_bla')\n",
    "        \n",
    "    def __call__(self, name):\n",
    "        for cb in self.cbs: getattr(cb, name, utils.noop())()"
   ]
  },
  {
   "cell_type": "code",
   "execution_count": null,
   "metadata": {},
   "outputs": [],
   "source": [
    "\n",
    "p = ParamScheduler('before_epoch', 'lr', schedulers.sched_lin(0,.1))"
   ]
  },
  {
   "cell_type": "code",
   "execution_count": null,
   "metadata": {},
   "outputs": [],
   "source": [
    "l = Learner([p])\n",
    "l.n_epochs = 88 # out of 100\n",
    "l.t()\n",
    "l.lr"
   ]
  },
  {
   "cell_type": "markdown",
   "metadata": {},
   "source": [
    "### Hooks"
   ]
  },
  {
   "cell_type": "markdown",
   "metadata": {},
   "source": [
    "## TB"
   ]
  },
  {
   "cell_type": "code",
   "execution_count": null,
   "metadata": {},
   "outputs": [],
   "source": [
    "writer = SummaryWriter(comment='Demo')\n",
    "mycallback = partial(TensorBoardCB, writer, track_weight=True, track_grad=True, metric_names=['val loss', 'accuracy'])\n"
   ]
  },
  {
   "cell_type": "code",
   "execution_count": null,
   "metadata": {},
   "outputs": [],
   "source": []
  },
  {
   "cell_type": "code",
   "execution_count": null,
   "metadata": {},
   "outputs": [],
   "source": []
  },
  {
   "cell_type": "code",
   "execution_count": null,
   "metadata": {},
   "outputs": [],
   "source": []
  },
  {
   "cell_type": "code",
   "execution_count": null,
   "metadata": {},
   "outputs": [],
   "source": []
  }
 ],
 "metadata": {
  "kernelspec": {
   "display_name": "Python 3",
   "language": "python",
   "name": "python3"
  },
  "language_info": {
   "codemirror_mode": {
    "name": "ipython",
    "version": 3
   },
   "file_extension": ".py",
   "mimetype": "text/x-python",
   "name": "python",
   "nbconvert_exporter": "python",
   "pygments_lexer": "ipython3",
   "version": "3.6.9"
  }
 },
 "nbformat": 4,
 "nbformat_minor": 4
}
