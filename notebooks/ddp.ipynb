{
 "cells": [
  {
   "cell_type": "code",
   "execution_count": null,
   "metadata": {},
   "outputs": [],
   "source": [
    "#export\n",
    "import os\n",
    "import argparse"
   ]
  },
  {
   "cell_type": "code",
   "execution_count": null,
   "metadata": {},
   "outputs": [],
   "source": [
    "# https://github.com/pytorch/examples/tree/master/distributed/ddp\n",
    "# https://pytorch.org/tutorials/intermediate/ddp_tutorial.html\n",
    "# https://pytorch.org/tutorials/intermediate/dist_tuto.html\n",
    "#\n",
    "#"
   ]
  },
  {
   "cell_type": "markdown",
   "metadata": {},
   "source": [
    "# Single node, multi-gpu\n",
    "```\n",
    "python -m torch.distributed.launch --nnodes=1 --node_rank=0 --nproc_per_node=4 --use_env <main_python_script>\n",
    "python /path/to/launch.py --nnode=1 --node_rank=0 --nproc_per_node=8 example.py --local_world_size=8\n",
    "```\n",
    "\n",
    "# Multi-node, multi-gpu\n",
    "\n",
    "    1. Choose a node as master and find an available high port (here, in range 49000-65535) on it for communication with worker nodes (https://unix.stackexchange.com/a/423052):\n",
    "```bash\n",
    "    MASTER_PORT=`comm -23 <(seq 49000 65535 | sort) <(ss -tan | awk '{print $4}' | cut -d':' -f2 | grep '[0-9]{1,5}' | sort -u)| shuf | head -n 1`\n",
    "```\n",
    "    2. Set MASTER_ADDR and MASTER_PORT on all nodes for launch utility:\n",
    "    \n",
    "```bash\n",
    "    export MASTER_ADDR=<MASTER_ADDR> MASTER_PORT=$MASTER_PORT\n",
    "```\n",
    "    \n",
    "    3. Launch master node process:\n",
    "```bash\n",
    "    python -m torch.distributed.launch --nnodes= --node_rank=0 --nproc_per_node=<num_gpus_per_node> --master_addr=$MASTER_ADDR --master_port=$MASTER_PORT --use_env <main_python_script> --distributed true\n",
    "```\n",
    "    4. Launch worker nodes' processes (run on each node, setting appropriate node_rank):\n",
    "```bash\n",
    "    python -m torch.distributed.launch --nnodes=<num_nodes> --node_rank= --nproc_per_node=4 --master_addr=$MASTER_ADDR --master_port=$MASTER_PORT --use_env <main_python_script> --distributed true\n",
    "```\n"
   ]
  },
  {
   "cell_type": "markdown",
   "metadata": {},
   "source": [
    "# Code"
   ]
  },
  {
   "cell_type": "code",
   "execution_count": null,
   "metadata": {},
   "outputs": [],
   "source": [
    "#export \n",
    "\n",
    "def spmd_main(local_rank, ddp_func):\n",
    "    env_dict = {key: os.environ[key] for key in (\"MASTER_ADDR\", \"MASTER_PORT\", \"RANK\", \"WORLD_SIZE\") }\n",
    "    \n",
    "    print(f\"[{os.getpid()}] Initializing process group with: {env_dict}\")\n",
    "    dist.init_process_group(backend=\"nccl\")\n",
    "    print( f\"[{os.getpid()}] world_size = {dist.get_world_size()}, \"\n",
    "        + f\"rank = {dist.get_rank()}, backend={dist.get_backend()}\" ) \n",
    "    \n",
    "    ddp_func(local_rank)\n",
    "\n",
    "    dist.destroy_process_group()\n",
    "    \n",
    "def parse_mp_args():\n",
    "    parser = argparse.ArgumentParser()\n",
    "    parser.add_argument(\"--local_rank\", default=0, type=int)\n",
    "    args = parser.parse_args()\n",
    "    return args\n"
   ]
  },
  {
   "cell_type": "code",
   "execution_count": null,
   "metadata": {},
   "outputs": [],
   "source": []
  },
  {
   "cell_type": "code",
   "execution_count": null,
   "metadata": {},
   "outputs": [],
   "source": []
  },
  {
   "cell_type": "code",
   "execution_count": null,
   "metadata": {},
   "outputs": [],
   "source": []
  },
  {
   "cell_type": "code",
   "execution_count": null,
   "metadata": {},
   "outputs": [],
   "source": []
  },
  {
   "cell_type": "code",
   "execution_count": null,
   "metadata": {},
   "outputs": [],
   "source": []
  },
  {
   "cell_type": "code",
   "execution_count": null,
   "metadata": {},
   "outputs": [],
   "source": []
  },
  {
   "cell_type": "code",
   "execution_count": null,
   "metadata": {},
   "outputs": [],
   "source": []
  },
  {
   "cell_type": "code",
   "execution_count": null,
   "metadata": {},
   "outputs": [],
   "source": []
  }
 ],
 "metadata": {
  "kernelspec": {
   "display_name": "Python 3",
   "language": "python",
   "name": "python3"
  },
  "language_info": {
   "codemirror_mode": {
    "name": "ipython",
    "version": 3
   },
   "file_extension": ".py",
   "mimetype": "text/x-python",
   "name": "python",
   "nbconvert_exporter": "python",
   "pygments_lexer": "ipython3",
   "version": "3.6.9"
  }
 },
 "nbformat": 4,
 "nbformat_minor": 4
}
