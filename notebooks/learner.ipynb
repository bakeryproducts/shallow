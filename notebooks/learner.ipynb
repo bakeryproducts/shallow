{
 "cells": [
  {
   "cell_type": "code",
   "execution_count": null,
   "metadata": {
    "tags": [
     "active-ipynb"
    ]
   },
   "outputs": [],
   "source": [
    "%load_ext autoreload\n",
    "%autoreload 2\n",
    "%matplotlib inline"
   ]
  },
  {
   "cell_type": "markdown",
   "metadata": {},
   "source": [
    "# Imports"
   ]
  },
  {
   "cell_type": "code",
   "execution_count": null,
   "metadata": {},
   "outputs": [],
   "source": [
    "import torch\n",
    "import torch.nn as nn\n",
    "\n",
    "from shallow import utils"
   ]
  },
  {
   "cell_type": "markdown",
   "metadata": {},
   "source": [
    "# Code"
   ]
  },
  {
   "cell_type": "code",
   "execution_count": null,
   "metadata": {},
   "outputs": [],
   "source": [
    "class CancelFitException(Exception): pass\n",
    "\n",
    "class Learner:\n",
    "    def __init__(self, model, opt, dls, loss_func, lr, cbs, batch_bar, epoch_bar, **kwargs):\n",
    "        utils.store_attr(self, locals())\n",
    "        for cb in self.cbs: cb.learner = self\n",
    "\n",
    "    def one_batch(self):\n",
    "        self('before_batch')\n",
    "        if self.model.training: self('train_step')\n",
    "        else: self('val_step')\n",
    "        self('after_batch')\n",
    "\n",
    "    def one_epoch(self, train):\n",
    "        self.model.training = train\n",
    "        self.dl = self.dls.TRAIN if train else self.dls.VALID\n",
    "        self('before_epoch')\n",
    "        for self.n_batch, self.batch in enumerate(self.batch_bar(self.dl)):\n",
    "            self.np_batch = self.n_batch / len(self.dl)\n",
    "            self.one_batch()\n",
    "        self('after_epoch')\n",
    "    \n",
    "    def fit(self, total_epochs):\n",
    "        self('before_fit')\n",
    "        self.total_epochs = total_epochs\n",
    "        try:\n",
    "            for self.n_epoch in self.epoch_bar:\n",
    "                self.np_epoch = self.n_epoch / self.total_epochs\n",
    "                self.one_epoch(True)\n",
    "                self.one_epoch(False)\n",
    "                #self.progress_bar.master_bar.write(f'Finished loop {self.epoch}.')\n",
    "        except CancelFitException: pass\n",
    "        self('after_fit')\n",
    "        \n",
    "    def __call__(self, name):\n",
    "        for cb in self.cbs: getattr(cb, name, utils.noop)()"
   ]
  },
  {
   "cell_type": "code",
   "execution_count": null,
   "metadata": {},
   "outputs": [],
   "source": []
  },
  {
   "cell_type": "code",
   "execution_count": null,
   "metadata": {},
   "outputs": [],
   "source": []
  }
 ],
 "metadata": {
  "jupytext": {
   "formats": "notebooks//ipynb,shallow//py:percent"
  },
  "kernelspec": {
   "display_name": "Python 3",
   "language": "python",
   "name": "python3"
  },
  "language_info": {
   "codemirror_mode": {
    "name": "ipython",
    "version": 3
   },
   "file_extension": ".py",
   "mimetype": "text/x-python",
   "name": "python",
   "nbconvert_exporter": "python",
   "pygments_lexer": "ipython3",
   "version": "3.6.9"
  }
 },
 "nbformat": 4,
 "nbformat_minor": 4
}
