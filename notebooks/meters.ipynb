{
 "cells": [
  {
   "cell_type": "code",
   "execution_count": null,
   "metadata": {},
   "outputs": [],
   "source": [
    "#export\n",
    "import time"
   ]
  },
  {
   "cell_type": "markdown",
   "metadata": {},
   "source": [
    "# Code"
   ]
  },
  {
   "cell_type": "code",
   "execution_count": null,
   "metadata": {},
   "outputs": [],
   "source": [
    "#export\n",
    "class AverageMeter:\n",
    "    \"\"\"Computes and stores the average and current value\"\"\"\n",
    "    def __init__(self): self.reset()\n",
    "\n",
    "    def reset(self):\n",
    "        self.val = 0\n",
    "        self.avg = 0\n",
    "        self.sum = 0\n",
    "        self.count = 0\n",
    "\n",
    "    def update(self, val, n=1):\n",
    "        self.val = val\n",
    "        self.sum += val * n\n",
    "        self.count += n\n",
    "        self.avg = self.sum / self.count"
   ]
  },
  {
   "cell_type": "code",
   "execution_count": null,
   "metadata": {},
   "outputs": [],
   "source": [
    "#export\n",
    "class TimeMeter:\n",
    "    \"\"\"Computes the average occurrence of some event per second\"\"\"\n",
    "    def __init__(self, init=0):  self.reset(init)\n",
    "\n",
    "    def reset(self, init=0):\n",
    "        self.init = init\n",
    "        self.start = time.time()\n",
    "        self.n = 0\n",
    "        self.last_update = time.time()\n",
    "\n",
    "    def update(self, val=1):\n",
    "        self.n += val\n",
    "        self.last_update = time.time()\n",
    "\n",
    "    @property\n",
    "    def avg(self):\n",
    "        return self.n / self.elapsed_time\n",
    "\n",
    "    @property\n",
    "    def elapsed_time(self):\n",
    "        return self.init + (time.time() - self.start)\n",
    "\n",
    "    @property\n",
    "    def u_avg(self):\n",
    "        return self.n / (self.last_update - self.start)"
   ]
  },
  {
   "cell_type": "code",
   "execution_count": null,
   "metadata": {},
   "outputs": [],
   "source": [
    "#export   \n",
    "class StopwatchMeter:\n",
    "    \"\"\"Computes the sum/avg duration of some event in seconds\"\"\"\n",
    "    def __init__(self):\n",
    "        self.reset()\n",
    "        self.intervals = []\n",
    "\n",
    "    def start(self):\n",
    "        self.start_time = time.time()\n",
    "\n",
    "    def stop(self, n=1):\n",
    "        #if self.start_time is not None:\n",
    "        assert self.start_time is not None\n",
    "        delta = time.time() - self.start_time\n",
    "        self.intervals.append(delta)\n",
    "        self.sum += delta\n",
    "        self.n += n\n",
    "        self.start_time = None\n",
    "\n",
    "    def reset(self):\n",
    "        self.sum = 0\n",
    "        self.n = 0\n",
    "        self.start_time = None\n",
    "        self.intervals = []\n",
    "\n",
    "    @property\n",
    "    def avg(self): return self.sum / self.n\n",
    "    \n",
    "    @property\n",
    "    def last(self): return self.intervals[-1] if len(self.intervals) > 0 else 0\n",
    "    \n",
    "    def p(self, i):\n",
    "        assert i <= 100\n",
    "        idx = int(len(self.intervals) * i / 100)\n",
    "        return sorted(self.intervals)[idx]\n"
   ]
  },
  {
   "cell_type": "markdown",
   "metadata": {},
   "source": [
    "# Tests"
   ]
  },
  {
   "cell_type": "code",
   "execution_count": null,
   "metadata": {},
   "outputs": [],
   "source": [
    "import numpy as np"
   ]
  },
  {
   "cell_type": "code",
   "execution_count": null,
   "metadata": {},
   "outputs": [],
   "source": [
    "am = AverageMeter()\n",
    "for i in range(1000):\n",
    "    r = np.random.rand()\n",
    "    am.update(r)\n",
    "am.avg"
   ]
  },
  {
   "cell_type": "code",
   "execution_count": null,
   "metadata": {},
   "outputs": [],
   "source": [
    "tm = TimeMeter()\n",
    "for i in range(10):\n",
    "    time.sleep(1e-1)\n",
    "    tm.update()\n",
    "    print(tm.elapsed_time, tm.avg, tm.u_avg)"
   ]
  },
  {
   "cell_type": "code",
   "execution_count": null,
   "metadata": {},
   "outputs": [],
   "source": []
  },
  {
   "cell_type": "code",
   "execution_count": null,
   "metadata": {},
   "outputs": [],
   "source": [
    "swm = StopwatchMeter()\n",
    "for i in range(1000):\n",
    "    dt = np.random.rand()/1e2\n",
    "    swm.start()\n",
    "    time.sleep(dt)\n",
    "    swm.stop()"
   ]
  },
  {
   "cell_type": "code",
   "execution_count": null,
   "metadata": {},
   "outputs": [],
   "source": [
    "swm.avg"
   ]
  },
  {
   "cell_type": "code",
   "execution_count": null,
   "metadata": {},
   "outputs": [],
   "source": [
    "swm.p(50)"
   ]
  },
  {
   "cell_type": "code",
   "execution_count": null,
   "metadata": {},
   "outputs": [],
   "source": [
    "swm.p(1), swm.p(99)"
   ]
  },
  {
   "cell_type": "code",
   "execution_count": null,
   "metadata": {},
   "outputs": [],
   "source": []
  },
  {
   "cell_type": "code",
   "execution_count": null,
   "metadata": {},
   "outputs": [],
   "source": []
  }
 ],
 "metadata": {
  "kernelspec": {
   "display_name": "Python 3",
   "language": "python",
   "name": "python3"
  },
  "language_info": {
   "codemirror_mode": {
    "name": "ipython",
    "version": 3
   },
   "file_extension": ".py",
   "mimetype": "text/x-python",
   "name": "python",
   "nbconvert_exporter": "python",
   "pygments_lexer": "ipython3",
   "version": "3.6.9"
  }
 },
 "nbformat": 4,
 "nbformat_minor": 4
}
